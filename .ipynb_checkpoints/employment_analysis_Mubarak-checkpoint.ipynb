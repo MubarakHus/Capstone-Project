{
 "cells": [
  {
   "cell_type": "markdown",
   "metadata": {
    "id": "pHGXgyq6Fv94"
   },
   "source": [
    "#  data description"
   ]
  },
  {
   "cell_type": "markdown",
   "metadata": {
    "id": "N3V4rK2pF6mV"
   },
   "source": [
    "عدد العاملين (السعوديين - الغير سعوديين) تفصيليا حسب حجم المنشأة (متناهية الصغر, صغيرة, متوسطة, وكبيرة باستخدام تصنيف منشآت) والنشاط الاقتصادي (وذلك باستخدام التصنيف الوطني للأنشطة الاقتصادية - المستوى الاول والثاني والسادس) في كل منطقة جغرافية."
   ]
  },
  {
   "cell_type": "markdown",
   "metadata": {},
   "source": [
    "# Import libraries"
   ]
  },
  {
   "cell_type": "code",
   "execution_count": 1,
   "metadata": {},
   "outputs": [],
   "source": [
    "import pandas as pd\n",
    "import numpy as np\n",
    "import openpyxl\n",
    "import os"
   ]
  },
  {
   "cell_type": "markdown",
   "metadata": {
    "id": "Km5CvoC6wlRi"
   },
   "source": [
    "# Import data"
   ]
  },
  {
   "cell_type": "markdown",
   "metadata": {},
   "source": [
    "## 2022"
   ]
  },
  {
   "cell_type": "code",
   "execution_count": 2,
   "metadata": {},
   "outputs": [],
   "source": [
    "Q1_2022 = os.path.join('data','2022','Number Of Employees 2022 - Q1.xlsx')\n",
    "Q2_2022 = os.path.join('data','2022','Number Of Employees 2022 - Q2.xlsx')\n",
    "Q3_2022 = os.path.join('data','2022','Number Of Employees 2022 - Q3.xlsx')\n",
    "Q4_2022 = os.path.join('data','2022','Number Of Employees 2022 - Q4.xlsx')\n"
   ]
  },
  {
   "cell_type": "markdown",
   "metadata": {},
   "source": [
    "## 2023"
   ]
  },
  {
   "cell_type": "code",
   "execution_count": 3,
   "metadata": {},
   "outputs": [],
   "source": [
    "Q1_2023 = os.path.join('data','2023','Number Of Employees 2023 - Q1.xlsx')\n",
    "Q2_2023 = os.path.join('data','2023','Number Of Employees 2023 - Q2.xlsx')\n",
    "Q3_2023 = os.path.join('data','2023','Number Of Employees 2023 - Q3.xlsx')\n",
    "Q4_2023 = os.path.join('data','2023','Number Of Employees 2023 - Q4.xlsx')"
   ]
  },
  {
   "cell_type": "markdown",
   "metadata": {},
   "source": [
    "## 2024"
   ]
  },
  {
   "cell_type": "code",
   "execution_count": 4,
   "metadata": {},
   "outputs": [],
   "source": [
    "Q1_2024 = os.path.join('data','2024','Number Of Employees 2024 - Q1.xlsx')\n",
    "Q2_2024 = os.path.join('data','2024','Number Of Employees 2024 - Q2.xlsx')\n",
    "Q3_2024 = os.path.join('data','2024','Number Of Employees 2024 - Q3.xlsx')"
   ]
  },
  {
   "cell_type": "markdown",
   "metadata": {},
   "source": [
    "# Read Data"
   ]
  },
  {
   "cell_type": "markdown",
   "metadata": {},
   "source": [
    "## 2022"
   ]
  },
  {
   "cell_type": "code",
   "execution_count": 5,
   "metadata": {},
   "outputs": [],
   "source": [
    "df_2022_Q1 = pd.read_excel(Q1_2022)\n",
    "df_2022_Q2 = pd.read_excel(Q2_2022)\n",
    "df_2022_Q3 = pd.read_excel(Q3_2022)\n",
    "df_2022_Q4 = pd.read_excel(Q4_2022)"
   ]
  },
  {
   "cell_type": "code",
   "execution_count": 6,
   "metadata": {},
   "outputs": [
    {
     "name": "stdout",
     "output_type": "stream",
     "text": [
      "\n",
      "df_2022_Q1:\n",
      "(2803, 14)\n",
      "\n",
      "df_2022_Q2:\n",
      "(2800, 14)\n",
      "\n",
      "df_2022_Q3:\n",
      "(2766, 14)\n",
      "\n",
      "df_2022_Q4:\n",
      "(2761, 14)\n"
     ]
    }
   ],
   "source": [
    "print(\"\\ndf_2022_Q1:\")\n",
    "print(df_2022_Q1.shape)\n",
    "print(\"\\ndf_2022_Q2:\")\n",
    "print(df_2022_Q2.shape)\n",
    "print(\"\\ndf_2022_Q3:\")\n",
    "print(df_2022_Q3.shape)\n",
    "print(\"\\ndf_2022_Q4:\")\n",
    "print(df_2022_Q4.shape)"
   ]
  },
  {
   "cell_type": "markdown",
   "metadata": {},
   "source": [
    "## 2023"
   ]
  },
  {
   "cell_type": "code",
   "execution_count": 7,
   "metadata": {},
   "outputs": [],
   "source": [
    "df_2023_Q1 = pd.read_excel(Q1_2023)\n",
    "df_2023_Q2 = pd.read_excel(Q2_2023)\n",
    "df_2023_Q3 = pd.read_excel(Q3_2023)\n",
    "df_2023_Q4 = pd.read_excel(Q4_2023)"
   ]
  },
  {
   "cell_type": "code",
   "execution_count": 8,
   "metadata": {},
   "outputs": [
    {
     "name": "stdout",
     "output_type": "stream",
     "text": [
      "\n",
      "df_2023_Q1:\n",
      "(2803, 14)\n",
      "\n",
      "df_2023_Q2:\n",
      "(2800, 14)\n",
      "\n",
      "df_2023_Q3:\n",
      "(2766, 14)\n",
      "\n",
      "df_2023_Q4:\n",
      "(2761, 14)\n"
     ]
    }
   ],
   "source": [
    "print(\"\\ndf_2023_Q1:\")\n",
    "print(df_2022_Q1.shape)\n",
    "print(\"\\ndf_2023_Q2:\")\n",
    "print(df_2022_Q2.shape)\n",
    "print(\"\\ndf_2023_Q3:\")\n",
    "print(df_2022_Q3.shape)\n",
    "print(\"\\ndf_2023_Q4:\")\n",
    "print(df_2022_Q4.shape)"
   ]
  },
  {
   "cell_type": "markdown",
   "metadata": {},
   "source": [
    "## 2024"
   ]
  },
  {
   "cell_type": "code",
   "execution_count": 9,
   "metadata": {},
   "outputs": [],
   "source": [
    "df_2024_Q1 = pd.read_excel(Q1_2024)\n",
    "df_2024_Q2 = pd.read_excel(Q2_2024)\n",
    "df_2024_Q3 = pd.read_excel(Q3_2024)"
   ]
  },
  {
   "cell_type": "code",
   "execution_count": 10,
   "metadata": {
    "colab": {
     "base_uri": "https://localhost:8080/"
    },
    "executionInfo": {
     "elapsed": 4135,
     "status": "ok",
     "timestamp": 1732212033508,
     "user": {
      "displayName": "Mamdouh Alsharari",
      "userId": "05698238833697906943"
     },
     "user_tz": -660
    },
    "id": "oH_dF2I12TCb",
    "outputId": "b95dff24-4c27-4dcf-ee11-e70c85428909"
   },
   "outputs": [
    {
     "name": "stdout",
     "output_type": "stream",
     "text": [
      "df_2024_Q1:\n",
      "(2830, 14)\n",
      "\n",
      "df_2024_Q2:\n",
      "(12778, 15)\n",
      "\n",
      "df_2024_Q3:\n",
      "(12861, 15)\n"
     ]
    }
   ],
   "source": [
    "print(\"df_2024_Q1:\")\n",
    "print(df_2024_Q1.shape)\n",
    "print(\"\\ndf_2024_Q2:\")\n",
    "print(df_2024_Q2.shape)\n",
    "print(\"\\ndf_2024_Q3:\")\n",
    "print(df_2024_Q3.shape)"
   ]
  },
  {
   "cell_type": "markdown",
   "metadata": {
    "id": "zEkEpGB1x9q5"
   },
   "source": [
    "# Convert column names to English"
   ]
  },
  {
   "cell_type": "code",
   "execution_count": 11,
   "metadata": {
    "executionInfo": {
     "elapsed": 307,
     "status": "ok",
     "timestamp": 1732211947175,
     "user": {
      "displayName": "Mamdouh Alsharari",
      "userId": "05698238833697906943"
     },
     "user_tz": -660
    },
    "id": "Hxi-_LK9dX9W"
   },
   "outputs": [],
   "source": [
    "dfs = [df_2024_Q1, df_2024_Q2, df_2024_Q3,\n",
    "       df_2023_Q1, df_2023_Q2, df_2023_Q3,df_2023_Q4,\n",
    "       df_2022_Q1, df_2022_Q2, df_2022_Q3, df_2022_Q4]"
   ]
  },
  {
   "cell_type": "code",
   "execution_count": 12,
   "metadata": {
    "executionInfo": {
     "elapsed": 425,
     "status": "ok",
     "timestamp": 1732212040056,
     "user": {
      "displayName": "Mamdouh Alsharari",
      "userId": "05698238833697906943"
     },
     "user_tz": -660
    },
    "id": "D2Z1FP0H1XU-"
   },
   "outputs": [],
   "source": [
    "trans_col_dict = {\n",
    "    \"المنطقة\": \"region\" ,\n",
    "    \"الربع\": \"Q\",\n",
    "    \"السنة\": \"year\" ,\n",
    "    \"حجم المنشأة\":\"size\",\n",
    "    \"عدد المنشآت\": \"Number_Of_Establishments\" ,\n",
    "    \"عدد العاملين السعوديين\": \"Number_Of_Saudis\",\n",
    "    \"عدد السعوديين (ذكور)\":\"Number_Of_Male_Saudis\",\n",
    "    \"عدد السعوديين (إناث)\": \"Number_Of_Female_Saudis\",\n",
    "    \"عدد العاملين الغير سعوديين\":\"Number_Of_Nonsaudis\" ,\n",
    "    \"عدد الغير سعوديين (ذكور)\":\"Number_Of_Male_Nonaudis\",\n",
    "    \"عدد الغير سعوديين (إناث)\": \"Number_Of_Female_Nonaudis\",\n",
    "    \"النشاط الاقتصادي - المستوى الثاني\":\"Economic_Activity\",\n",
    "    \"النشاط الاقتصادي\":\"Economic_Activity\",\n",
    "    \"عدد السعوديات (إناث)\": \"Number_Of_Female_Saudis\",\n",
    "    \"عدد العاملين الأجانب\":\"Number_Of_Nonsaudis\" ,\n",
    "    \"عدد الأجانب (ذكور)\":\"Number_Of_Male_Nonaudis\",\n",
    "    \"عدد الأجنبيات (إناث)\": \"Number_Of_Female_Nonaudis\",\n",
    "\n",
    "}"
   ]
  },
  {
   "cell_type": "code",
   "execution_count": 13,
   "metadata": {
    "executionInfo": {
     "elapsed": 340,
     "status": "ok",
     "timestamp": 1732211777060,
     "user": {
      "displayName": "Mamdouh Alsharari",
      "userId": "05698238833697906943"
     },
     "user_tz": -660
    },
    "id": "rMVqDi8bRmIj"
   },
   "outputs": [],
   "source": [
    "# create function that takes dataframe and convert all columns to english\n",
    "def arabic_to_english_column_names(df):\n",
    "  df.rename(columns=trans_col_dict, inplace=True)\n",
    "  return df"
   ]
  },
  {
   "cell_type": "code",
   "execution_count": 14,
   "metadata": {
    "colab": {
     "base_uri": "https://localhost:8080/"
    },
    "collapsed": true,
    "executionInfo": {
     "elapsed": 109620,
     "status": "ok",
     "timestamp": 1732212156981,
     "user": {
      "displayName": "Mamdouh Alsharari",
      "userId": "05698238833697906943"
     },
     "user_tz": -660
    },
    "id": "tR0gkEdcdcpw",
    "outputId": "354a6593-6435-4ac5-cb46-7aaa139e78fd"
   },
   "outputs": [],
   "source": [
    "for df in dfs:\n",
    "  arabic_to_english_column_names(df)\n"
   ]
  },
  {
   "cell_type": "markdown",
   "metadata": {
    "id": "HU6HygPoyk2h"
   },
   "source": [
    "# EDA"
   ]
  },
  {
   "cell_type": "markdown",
   "metadata": {},
   "source": [
    "## dataframes overview"
   ]
  },
  {
   "cell_type": "code",
   "execution_count": 15,
   "metadata": {
    "executionInfo": {
     "elapsed": 429,
     "status": "ok",
     "timestamp": 1732271076522,
     "user": {
      "displayName": "Mamdouh Alsharari",
      "userId": "05698238833697906943"
     },
     "user_tz": -660
    },
    "id": "QUk1M5eb_oeZ"
   },
   "outputs": [],
   "source": [
    "pd.set_option(\"display.max_rows\", None) # Show all rows\n"
   ]
  },
  {
   "cell_type": "code",
   "execution_count": 16,
   "metadata": {},
   "outputs": [],
   "source": [
    "df_2024= pd.concat([df_2024_Q1, df_2024_Q2, df_2024_Q3], ignore_index=True)\n",
    "df_2023= pd.concat([df_2023_Q1, df_2023_Q2, df_2023_Q3, df_2023_Q4], ignore_index=True)\n",
    "df_2022= pd.concat([df_2022_Q1, df_2022_Q2, df_2022_Q3, df_2022_Q4], ignore_index=True)"
   ]
  },
  {
   "cell_type": "code",
   "execution_count": 17,
   "metadata": {
    "colab": {
     "base_uri": "https://localhost:8080/"
    },
    "executionInfo": {
     "elapsed": 432,
     "status": "ok",
     "timestamp": 1732270648317,
     "user": {
      "displayName": "Mamdouh Alsharari",
      "userId": "05698238833697906943"
     },
     "user_tz": -660
    },
    "id": "ayYqEEH8y41n",
    "outputId": "1b1bbe3c-d748-42ef-a9f8-32189e770227"
   },
   "outputs": [
    {
     "data": {
      "text/plain": [
       "((28469, 16), (11100, 14), (11130, 14))"
      ]
     },
     "execution_count": 17,
     "metadata": {},
     "output_type": "execute_result"
    }
   ],
   "source": [
    "df_2024.shape, df_2023.shape, df_2022.shape"
   ]
  },
  {
   "cell_type": "code",
   "execution_count": 18,
   "metadata": {},
   "outputs": [
    {
     "data": {
      "text/html": [
       "<div>\n",
       "<style scoped>\n",
       "    .dataframe tbody tr th:only-of-type {\n",
       "        vertical-align: middle;\n",
       "    }\n",
       "\n",
       "    .dataframe tbody tr th {\n",
       "        vertical-align: top;\n",
       "    }\n",
       "\n",
       "    .dataframe thead th {\n",
       "        text-align: right;\n",
       "    }\n",
       "</style>\n",
       "<table border=\"1\" class=\"dataframe\">\n",
       "  <thead>\n",
       "    <tr style=\"text-align: right;\">\n",
       "      <th></th>\n",
       "      <th>year</th>\n",
       "      <th>Q</th>\n",
       "      <th>region</th>\n",
       "      <th>Economic_Activity</th>\n",
       "      <th>size</th>\n",
       "      <th>Number_Of_Establishments</th>\n",
       "      <th>Number_Of_Saudis</th>\n",
       "      <th>Number_Of_Male_Saudis</th>\n",
       "      <th>Number_Of_Female_Saudis</th>\n",
       "      <th>Number_Of_Nonsaudis</th>\n",
       "      <th>Number_Of_Male_Nonaudis</th>\n",
       "      <th>Number_Of_Female_Nonaudis</th>\n",
       "      <th>Unnamed: 12</th>\n",
       "      <th>Unnamed: 13</th>\n",
       "    </tr>\n",
       "  </thead>\n",
       "  <tbody>\n",
       "    <tr>\n",
       "      <th>0</th>\n",
       "      <td>2022</td>\n",
       "      <td>1</td>\n",
       "      <td>المنطقة الشرقية</td>\n",
       "      <td>وكالات السفر ومشغّلو الجولات السياحية وخدمات ا...</td>\n",
       "      <td>صغيرة</td>\n",
       "      <td>50</td>\n",
       "      <td>276</td>\n",
       "      <td>132</td>\n",
       "      <td>144</td>\n",
       "      <td>462</td>\n",
       "      <td>451</td>\n",
       "      <td>11</td>\n",
       "      <td>NaN</td>\n",
       "      <td>NaN</td>\n",
       "    </tr>\n",
       "    <tr>\n",
       "      <th>1</th>\n",
       "      <td>2022</td>\n",
       "      <td>1</td>\n",
       "      <td>المنطقة الشرقية</td>\n",
       "      <td>وكالات السفر ومشغّلو الجولات السياحية وخدمات ا...</td>\n",
       "      <td>كبيرة</td>\n",
       "      <td>1</td>\n",
       "      <td>273</td>\n",
       "      <td>258</td>\n",
       "      <td>15</td>\n",
       "      <td>334</td>\n",
       "      <td>333</td>\n",
       "      <td>1</td>\n",
       "      <td>NaN</td>\n",
       "      <td>اخلاء مسؤولية:\\n - تمت معالجة البيانات بأقصى ق...</td>\n",
       "    </tr>\n",
       "    <tr>\n",
       "      <th>2</th>\n",
       "      <td>2022</td>\n",
       "      <td>1</td>\n",
       "      <td>المنطقة الشرقية</td>\n",
       "      <td>وكالات السفر ومشغّلو الجولات السياحية وخدمات ا...</td>\n",
       "      <td>متناهية الصغر</td>\n",
       "      <td>128</td>\n",
       "      <td>96</td>\n",
       "      <td>47</td>\n",
       "      <td>49</td>\n",
       "      <td>198</td>\n",
       "      <td>194</td>\n",
       "      <td>4</td>\n",
       "      <td>NaN</td>\n",
       "      <td>NaN</td>\n",
       "    </tr>\n",
       "    <tr>\n",
       "      <th>3</th>\n",
       "      <td>2022</td>\n",
       "      <td>1</td>\n",
       "      <td>المنطقة الشرقية</td>\n",
       "      <td>وكالات السفر ومشغّلو الجولات السياحية وخدمات ا...</td>\n",
       "      <td>متوسطة</td>\n",
       "      <td>7</td>\n",
       "      <td>184</td>\n",
       "      <td>119</td>\n",
       "      <td>65</td>\n",
       "      <td>392</td>\n",
       "      <td>390</td>\n",
       "      <td>2</td>\n",
       "      <td>NaN</td>\n",
       "      <td>NaN</td>\n",
       "    </tr>\n",
       "    <tr>\n",
       "      <th>4</th>\n",
       "      <td>2022</td>\n",
       "      <td>1</td>\n",
       "      <td>منطقة الباحة</td>\n",
       "      <td>وكالات السفر ومشغّلو الجولات السياحية وخدمات ا...</td>\n",
       "      <td>متناهية الصغر</td>\n",
       "      <td>2</td>\n",
       "      <td>0</td>\n",
       "      <td>0</td>\n",
       "      <td>0</td>\n",
       "      <td>6</td>\n",
       "      <td>6</td>\n",
       "      <td>0</td>\n",
       "      <td>NaN</td>\n",
       "      <td>NaN</td>\n",
       "    </tr>\n",
       "  </tbody>\n",
       "</table>\n",
       "</div>"
      ],
      "text/plain": [
       "   year  Q           region  \\\n",
       "0  2022  1  المنطقة الشرقية   \n",
       "1  2022  1  المنطقة الشرقية   \n",
       "2  2022  1  المنطقة الشرقية   \n",
       "3  2022  1  المنطقة الشرقية   \n",
       "4  2022  1     منطقة الباحة   \n",
       "\n",
       "                                   Economic_Activity           size  \\\n",
       "0  وكالات السفر ومشغّلو الجولات السياحية وخدمات ا...          صغيرة   \n",
       "1  وكالات السفر ومشغّلو الجولات السياحية وخدمات ا...          كبيرة   \n",
       "2  وكالات السفر ومشغّلو الجولات السياحية وخدمات ا...  متناهية الصغر   \n",
       "3  وكالات السفر ومشغّلو الجولات السياحية وخدمات ا...         متوسطة   \n",
       "4  وكالات السفر ومشغّلو الجولات السياحية وخدمات ا...  متناهية الصغر   \n",
       "\n",
       "   Number_Of_Establishments  Number_Of_Saudis  Number_Of_Male_Saudis  \\\n",
       "0                        50               276                    132   \n",
       "1                         1               273                    258   \n",
       "2                       128                96                     47   \n",
       "3                         7               184                    119   \n",
       "4                         2                 0                      0   \n",
       "\n",
       "   Number_Of_Female_Saudis  Number_Of_Nonsaudis  Number_Of_Male_Nonaudis  \\\n",
       "0                      144                  462                      451   \n",
       "1                       15                  334                      333   \n",
       "2                       49                  198                      194   \n",
       "3                       65                  392                      390   \n",
       "4                        0                    6                        6   \n",
       "\n",
       "   Number_Of_Female_Nonaudis  Unnamed: 12  \\\n",
       "0                         11          NaN   \n",
       "1                          1          NaN   \n",
       "2                          4          NaN   \n",
       "3                          2          NaN   \n",
       "4                          0          NaN   \n",
       "\n",
       "                                         Unnamed: 13  \n",
       "0                                                NaN  \n",
       "1  اخلاء مسؤولية:\\n - تمت معالجة البيانات بأقصى ق...  \n",
       "2                                                NaN  \n",
       "3                                                NaN  \n",
       "4                                                NaN  "
      ]
     },
     "execution_count": 18,
     "metadata": {},
     "output_type": "execute_result"
    }
   ],
   "source": [
    "df_2022.head()"
   ]
  },
  {
   "cell_type": "code",
   "execution_count": 19,
   "metadata": {},
   "outputs": [
    {
     "data": {
      "text/html": [
       "<div>\n",
       "<style scoped>\n",
       "    .dataframe tbody tr th:only-of-type {\n",
       "        vertical-align: middle;\n",
       "    }\n",
       "\n",
       "    .dataframe tbody tr th {\n",
       "        vertical-align: top;\n",
       "    }\n",
       "\n",
       "    .dataframe thead th {\n",
       "        text-align: right;\n",
       "    }\n",
       "</style>\n",
       "<table border=\"1\" class=\"dataframe\">\n",
       "  <thead>\n",
       "    <tr style=\"text-align: right;\">\n",
       "      <th></th>\n",
       "      <th>year</th>\n",
       "      <th>Q</th>\n",
       "      <th>region</th>\n",
       "      <th>Economic_Activity</th>\n",
       "      <th>size</th>\n",
       "      <th>Number_Of_Establishments</th>\n",
       "      <th>Number_Of_Saudis</th>\n",
       "      <th>Number_Of_Male_Saudis</th>\n",
       "      <th>Number_Of_Female_Saudis</th>\n",
       "      <th>Number_Of_Nonsaudis</th>\n",
       "      <th>Number_Of_Male_Nonaudis</th>\n",
       "      <th>Number_Of_Female_Nonaudis</th>\n",
       "      <th>Unnamed: 12</th>\n",
       "      <th>Unnamed: 13</th>\n",
       "    </tr>\n",
       "  </thead>\n",
       "  <tbody>\n",
       "    <tr>\n",
       "      <th>0</th>\n",
       "      <td>2023</td>\n",
       "      <td>1</td>\n",
       "      <td>المنطقة الشرقية</td>\n",
       "      <td>وكالات السفر ومشغّلو الجولات السياحية وخدمات ا...</td>\n",
       "      <td>صغيرة</td>\n",
       "      <td>54</td>\n",
       "      <td>320</td>\n",
       "      <td>137</td>\n",
       "      <td>183</td>\n",
       "      <td>523</td>\n",
       "      <td>516</td>\n",
       "      <td>7</td>\n",
       "      <td>NaN</td>\n",
       "      <td>NaN</td>\n",
       "    </tr>\n",
       "    <tr>\n",
       "      <th>1</th>\n",
       "      <td>2023</td>\n",
       "      <td>1</td>\n",
       "      <td>المنطقة الشرقية</td>\n",
       "      <td>وكالات السفر ومشغّلو الجولات السياحية وخدمات ا...</td>\n",
       "      <td>كبيرة</td>\n",
       "      <td>1</td>\n",
       "      <td>221</td>\n",
       "      <td>207</td>\n",
       "      <td>14</td>\n",
       "      <td>213</td>\n",
       "      <td>212</td>\n",
       "      <td>1</td>\n",
       "      <td>NaN</td>\n",
       "      <td>اخلاء مسؤولية:\\n - تمت معالجة البيانات بأقصى ق...</td>\n",
       "    </tr>\n",
       "    <tr>\n",
       "      <th>2</th>\n",
       "      <td>2023</td>\n",
       "      <td>1</td>\n",
       "      <td>المنطقة الشرقية</td>\n",
       "      <td>وكالات السفر ومشغّلو الجولات السياحية وخدمات ا...</td>\n",
       "      <td>متناهية الصغر</td>\n",
       "      <td>184</td>\n",
       "      <td>122</td>\n",
       "      <td>65</td>\n",
       "      <td>57</td>\n",
       "      <td>287</td>\n",
       "      <td>285</td>\n",
       "      <td>2</td>\n",
       "      <td>NaN</td>\n",
       "      <td>NaN</td>\n",
       "    </tr>\n",
       "    <tr>\n",
       "      <th>3</th>\n",
       "      <td>2023</td>\n",
       "      <td>1</td>\n",
       "      <td>المنطقة الشرقية</td>\n",
       "      <td>وكالات السفر ومشغّلو الجولات السياحية وخدمات ا...</td>\n",
       "      <td>متوسطة</td>\n",
       "      <td>6</td>\n",
       "      <td>239</td>\n",
       "      <td>130</td>\n",
       "      <td>109</td>\n",
       "      <td>329</td>\n",
       "      <td>326</td>\n",
       "      <td>3</td>\n",
       "      <td>NaN</td>\n",
       "      <td>NaN</td>\n",
       "    </tr>\n",
       "    <tr>\n",
       "      <th>4</th>\n",
       "      <td>2023</td>\n",
       "      <td>1</td>\n",
       "      <td>منطقة الباحة</td>\n",
       "      <td>وكالات السفر ومشغّلو الجولات السياحية وخدمات ا...</td>\n",
       "      <td>متناهية الصغر</td>\n",
       "      <td>7</td>\n",
       "      <td>2</td>\n",
       "      <td>2</td>\n",
       "      <td>0</td>\n",
       "      <td>13</td>\n",
       "      <td>13</td>\n",
       "      <td>0</td>\n",
       "      <td>NaN</td>\n",
       "      <td>NaN</td>\n",
       "    </tr>\n",
       "  </tbody>\n",
       "</table>\n",
       "</div>"
      ],
      "text/plain": [
       "   year  Q           region  \\\n",
       "0  2023  1  المنطقة الشرقية   \n",
       "1  2023  1  المنطقة الشرقية   \n",
       "2  2023  1  المنطقة الشرقية   \n",
       "3  2023  1  المنطقة الشرقية   \n",
       "4  2023  1     منطقة الباحة   \n",
       "\n",
       "                                   Economic_Activity           size  \\\n",
       "0  وكالات السفر ومشغّلو الجولات السياحية وخدمات ا...          صغيرة   \n",
       "1  وكالات السفر ومشغّلو الجولات السياحية وخدمات ا...          كبيرة   \n",
       "2  وكالات السفر ومشغّلو الجولات السياحية وخدمات ا...  متناهية الصغر   \n",
       "3  وكالات السفر ومشغّلو الجولات السياحية وخدمات ا...         متوسطة   \n",
       "4  وكالات السفر ومشغّلو الجولات السياحية وخدمات ا...  متناهية الصغر   \n",
       "\n",
       "   Number_Of_Establishments  Number_Of_Saudis  Number_Of_Male_Saudis  \\\n",
       "0                        54               320                    137   \n",
       "1                         1               221                    207   \n",
       "2                       184               122                     65   \n",
       "3                         6               239                    130   \n",
       "4                         7                 2                      2   \n",
       "\n",
       "   Number_Of_Female_Saudis  Number_Of_Nonsaudis  Number_Of_Male_Nonaudis  \\\n",
       "0                      183                  523                      516   \n",
       "1                       14                  213                      212   \n",
       "2                       57                  287                      285   \n",
       "3                      109                  329                      326   \n",
       "4                        0                   13                       13   \n",
       "\n",
       "   Number_Of_Female_Nonaudis  Unnamed: 12  \\\n",
       "0                          7          NaN   \n",
       "1                          1          NaN   \n",
       "2                          2          NaN   \n",
       "3                          3          NaN   \n",
       "4                          0          NaN   \n",
       "\n",
       "                                         Unnamed: 13  \n",
       "0                                                NaN  \n",
       "1  اخلاء مسؤولية:\\n - تمت معالجة البيانات بأقصى ق...  \n",
       "2                                                NaN  \n",
       "3                                                NaN  \n",
       "4                                                NaN  "
      ]
     },
     "execution_count": 19,
     "metadata": {},
     "output_type": "execute_result"
    }
   ],
   "source": [
    "df_2023.head()"
   ]
  },
  {
   "cell_type": "code",
   "execution_count": 20,
   "metadata": {},
   "outputs": [
    {
     "data": {
      "text/html": [
       "<div>\n",
       "<style scoped>\n",
       "    .dataframe tbody tr th:only-of-type {\n",
       "        vertical-align: middle;\n",
       "    }\n",
       "\n",
       "    .dataframe tbody tr th {\n",
       "        vertical-align: top;\n",
       "    }\n",
       "\n",
       "    .dataframe thead th {\n",
       "        text-align: right;\n",
       "    }\n",
       "</style>\n",
       "<table border=\"1\" class=\"dataframe\">\n",
       "  <thead>\n",
       "    <tr style=\"text-align: right;\">\n",
       "      <th></th>\n",
       "      <th>year</th>\n",
       "      <th>Q</th>\n",
       "      <th>region</th>\n",
       "      <th>Economic_Activity</th>\n",
       "      <th>size</th>\n",
       "      <th>Number_Of_Establishments</th>\n",
       "      <th>Number_Of_Saudis</th>\n",
       "      <th>Number_Of_Male_Saudis</th>\n",
       "      <th>Number_Of_Female_Saudis</th>\n",
       "      <th>Number_Of_Nonsaudis</th>\n",
       "      <th>Number_Of_Male_Nonaudis</th>\n",
       "      <th>Number_Of_Female_Nonaudis</th>\n",
       "      <th>Unnamed: 12</th>\n",
       "      <th>Unnamed: 13</th>\n",
       "      <th>المدينة</th>\n",
       "      <th>Unnamed: 14</th>\n",
       "    </tr>\n",
       "  </thead>\n",
       "  <tbody>\n",
       "    <tr>\n",
       "      <th>0</th>\n",
       "      <td>2024</td>\n",
       "      <td>1</td>\n",
       "      <td>المنطقة الشرقية</td>\n",
       "      <td>الإدارة العامة والدفاع ؛ والضمان الاجتماعي الإ...</td>\n",
       "      <td>متناهية الصغر</td>\n",
       "      <td>57</td>\n",
       "      <td>29</td>\n",
       "      <td>14</td>\n",
       "      <td>15</td>\n",
       "      <td>81</td>\n",
       "      <td>81</td>\n",
       "      <td>0</td>\n",
       "      <td>NaN</td>\n",
       "      <td>NaN</td>\n",
       "      <td>NaN</td>\n",
       "      <td>NaN</td>\n",
       "    </tr>\n",
       "    <tr>\n",
       "      <th>1</th>\n",
       "      <td>2024</td>\n",
       "      <td>1</td>\n",
       "      <td>المنطقة الشرقية</td>\n",
       "      <td>الإدارة العامة والدفاع ؛ والضمان الاجتماعي الإ...</td>\n",
       "      <td>صغيرة</td>\n",
       "      <td>13</td>\n",
       "      <td>146</td>\n",
       "      <td>94</td>\n",
       "      <td>52</td>\n",
       "      <td>75</td>\n",
       "      <td>73</td>\n",
       "      <td>2</td>\n",
       "      <td>NaN</td>\n",
       "      <td>اخلاء مسؤولية:\\n - تمت معالجة البيانات بأقصى ق...</td>\n",
       "      <td>NaN</td>\n",
       "      <td>NaN</td>\n",
       "    </tr>\n",
       "    <tr>\n",
       "      <th>2</th>\n",
       "      <td>2024</td>\n",
       "      <td>1</td>\n",
       "      <td>المنطقة الشرقية</td>\n",
       "      <td>الإدارة العامة والدفاع ؛ والضمان الاجتماعي الإ...</td>\n",
       "      <td>متوسطة</td>\n",
       "      <td>1</td>\n",
       "      <td>43</td>\n",
       "      <td>43</td>\n",
       "      <td>0</td>\n",
       "      <td>7</td>\n",
       "      <td>7</td>\n",
       "      <td>0</td>\n",
       "      <td>NaN</td>\n",
       "      <td>NaN</td>\n",
       "      <td>NaN</td>\n",
       "      <td>NaN</td>\n",
       "    </tr>\n",
       "    <tr>\n",
       "      <th>3</th>\n",
       "      <td>2024</td>\n",
       "      <td>1</td>\n",
       "      <td>المنطقة الشرقية</td>\n",
       "      <td>الإدارة العامة والدفاع ؛ والضمان الاجتماعي الإ...</td>\n",
       "      <td>كبيرة</td>\n",
       "      <td>2</td>\n",
       "      <td>827</td>\n",
       "      <td>624</td>\n",
       "      <td>203</td>\n",
       "      <td>283</td>\n",
       "      <td>274</td>\n",
       "      <td>9</td>\n",
       "      <td>NaN</td>\n",
       "      <td>NaN</td>\n",
       "      <td>NaN</td>\n",
       "      <td>NaN</td>\n",
       "    </tr>\n",
       "    <tr>\n",
       "      <th>4</th>\n",
       "      <td>2024</td>\n",
       "      <td>1</td>\n",
       "      <td>منطقة الباحة</td>\n",
       "      <td>الإدارة العامة والدفاع ؛ والضمان الاجتماعي الإ...</td>\n",
       "      <td>متناهية الصغر</td>\n",
       "      <td>8</td>\n",
       "      <td>1</td>\n",
       "      <td>1</td>\n",
       "      <td>0</td>\n",
       "      <td>18</td>\n",
       "      <td>18</td>\n",
       "      <td>0</td>\n",
       "      <td>NaN</td>\n",
       "      <td>NaN</td>\n",
       "      <td>NaN</td>\n",
       "      <td>NaN</td>\n",
       "    </tr>\n",
       "  </tbody>\n",
       "</table>\n",
       "</div>"
      ],
      "text/plain": [
       "   year  Q           region  \\\n",
       "0  2024  1  المنطقة الشرقية   \n",
       "1  2024  1  المنطقة الشرقية   \n",
       "2  2024  1  المنطقة الشرقية   \n",
       "3  2024  1  المنطقة الشرقية   \n",
       "4  2024  1     منطقة الباحة   \n",
       "\n",
       "                                   Economic_Activity           size  \\\n",
       "0  الإدارة العامة والدفاع ؛ والضمان الاجتماعي الإ...  متناهية الصغر   \n",
       "1  الإدارة العامة والدفاع ؛ والضمان الاجتماعي الإ...          صغيرة   \n",
       "2  الإدارة العامة والدفاع ؛ والضمان الاجتماعي الإ...         متوسطة   \n",
       "3  الإدارة العامة والدفاع ؛ والضمان الاجتماعي الإ...          كبيرة   \n",
       "4  الإدارة العامة والدفاع ؛ والضمان الاجتماعي الإ...  متناهية الصغر   \n",
       "\n",
       "   Number_Of_Establishments  Number_Of_Saudis  Number_Of_Male_Saudis  \\\n",
       "0                        57                29                     14   \n",
       "1                        13               146                     94   \n",
       "2                         1                43                     43   \n",
       "3                         2               827                    624   \n",
       "4                         8                 1                      1   \n",
       "\n",
       "   Number_Of_Female_Saudis  Number_Of_Nonsaudis  Number_Of_Male_Nonaudis  \\\n",
       "0                       15                   81                       81   \n",
       "1                       52                   75                       73   \n",
       "2                        0                    7                        7   \n",
       "3                      203                  283                      274   \n",
       "4                        0                   18                       18   \n",
       "\n",
       "   Number_Of_Female_Nonaudis  Unnamed: 12  \\\n",
       "0                          0          NaN   \n",
       "1                          2          NaN   \n",
       "2                          0          NaN   \n",
       "3                          9          NaN   \n",
       "4                          0          NaN   \n",
       "\n",
       "                                         Unnamed: 13 المدينة Unnamed: 14  \n",
       "0                                                NaN     NaN         NaN  \n",
       "1  اخلاء مسؤولية:\\n - تمت معالجة البيانات بأقصى ق...     NaN         NaN  \n",
       "2                                                NaN     NaN         NaN  \n",
       "3                                                NaN     NaN         NaN  \n",
       "4                                                NaN     NaN         NaN  "
      ]
     },
     "execution_count": 20,
     "metadata": {},
     "output_type": "execute_result"
    }
   ],
   "source": [
    "df_2024.head()"
   ]
  },
  {
   "cell_type": "code",
   "execution_count": 21,
   "metadata": {},
   "outputs": [
    {
     "name": "stdout",
     "output_type": "stream",
     "text": [
      "<class 'pandas.core.frame.DataFrame'>\n",
      "RangeIndex: 28469 entries, 0 to 28468\n",
      "Data columns (total 16 columns):\n",
      " #   Column                     Non-Null Count  Dtype  \n",
      "---  ------                     --------------  -----  \n",
      " 0   year                       28469 non-null  int64  \n",
      " 1   Q                          28469 non-null  int64  \n",
      " 2   region                     28469 non-null  object \n",
      " 3   Economic_Activity          28469 non-null  object \n",
      " 4   size                       28469 non-null  object \n",
      " 5   Number_Of_Establishments   28469 non-null  int64  \n",
      " 6   Number_Of_Saudis           28469 non-null  int64  \n",
      " 7   Number_Of_Male_Saudis      28469 non-null  int64  \n",
      " 8   Number_Of_Female_Saudis    28469 non-null  int64  \n",
      " 9   Number_Of_Nonsaudis        28469 non-null  int64  \n",
      " 10  Number_Of_Male_Nonaudis    28469 non-null  int64  \n",
      " 11  Number_Of_Female_Nonaudis  28469 non-null  int64  \n",
      " 12  Unnamed: 12                0 non-null      float64\n",
      " 13  Unnamed: 13                1 non-null      object \n",
      " 14  المدينة                    25639 non-null  object \n",
      " 15  Unnamed: 14                2 non-null      object \n",
      "dtypes: float64(1), int64(9), object(6)\n",
      "memory usage: 3.5+ MB\n"
     ]
    }
   ],
   "source": [
    "df_2024.info()"
   ]
  },
  {
   "cell_type": "code",
   "execution_count": 68,
   "metadata": {},
   "outputs": [
    {
     "name": "stdout",
     "output_type": "stream",
     "text": [
      "<class 'pandas.core.frame.DataFrame'>\n",
      "RangeIndex: 11100 entries, 0 to 11099\n",
      "Data columns (total 14 columns):\n",
      " #   Column                     Non-Null Count  Dtype  \n",
      "---  ------                     --------------  -----  \n",
      " 0   year                       11100 non-null  int64  \n",
      " 1   Q                          11100 non-null  int64  \n",
      " 2   region                     11100 non-null  object \n",
      " 3   Economic_Activity          11100 non-null  object \n",
      " 4   size                       11100 non-null  object \n",
      " 5   Number_Of_Establishments   11100 non-null  int64  \n",
      " 6   Number_Of_Saudis           11100 non-null  int64  \n",
      " 7   Number_Of_Male_Saudis      11100 non-null  int64  \n",
      " 8   Number_Of_Female_Saudis    11100 non-null  int64  \n",
      " 9   Number_Of_Nonsaudis        11100 non-null  int64  \n",
      " 10  Number_Of_Male_Nonaudis    11100 non-null  int64  \n",
      " 11  Number_Of_Female_Nonaudis  11100 non-null  int64  \n",
      " 12  Unnamed: 12                0 non-null      float64\n",
      " 13  Unnamed: 13                4 non-null      object \n",
      "dtypes: float64(1), int64(9), object(4)\n",
      "memory usage: 1.2+ MB\n"
     ]
    }
   ],
   "source": [
    "df_2023.info()"
   ]
  },
  {
   "cell_type": "code",
   "execution_count": 69,
   "metadata": {},
   "outputs": [
    {
     "name": "stdout",
     "output_type": "stream",
     "text": [
      "<class 'pandas.core.frame.DataFrame'>\n",
      "RangeIndex: 28469 entries, 0 to 28468\n",
      "Data columns (total 16 columns):\n",
      " #   Column                     Non-Null Count  Dtype  \n",
      "---  ------                     --------------  -----  \n",
      " 0   year                       28469 non-null  int64  \n",
      " 1   Q                          28469 non-null  int64  \n",
      " 2   region                     28469 non-null  object \n",
      " 3   Economic_Activity          28469 non-null  object \n",
      " 4   size                       28469 non-null  object \n",
      " 5   Number_Of_Establishments   28469 non-null  int64  \n",
      " 6   Number_Of_Saudis           28469 non-null  int64  \n",
      " 7   Number_Of_Male_Saudis      28469 non-null  int64  \n",
      " 8   Number_Of_Female_Saudis    28469 non-null  int64  \n",
      " 9   Number_Of_Nonsaudis        28469 non-null  int64  \n",
      " 10  Number_Of_Male_Nonaudis    28469 non-null  int64  \n",
      " 11  Number_Of_Female_Nonaudis  28469 non-null  int64  \n",
      " 12  Unnamed: 12                0 non-null      float64\n",
      " 13  Unnamed: 13                1 non-null      object \n",
      " 14  المدينة                    25639 non-null  object \n",
      " 15  Unnamed: 14                2 non-null      object \n",
      "dtypes: float64(1), int64(9), object(6)\n",
      "memory usage: 3.5+ MB\n"
     ]
    }
   ],
   "source": [
    "df_2024.info()"
   ]
  },
  {
   "cell_type": "markdown",
   "metadata": {},
   "source": [
    "## Relevent"
   ]
  },
  {
   "cell_type": "code",
   "execution_count": 22,
   "metadata": {},
   "outputs": [],
   "source": [
    "# drop المدينة\n",
    "# drop unnamed columns\n",
    "df_2022.drop(columns=[\"Unnamed: 12\",\"Unnamed: 13\"],inplace=True)\n",
    "df_2023.drop(columns=[\"Unnamed: 12\",\"Unnamed: 13\"],inplace=True)\n",
    "df_2024.drop(columns=[\"Unnamed: 12\",\"Unnamed: 13\",\"Unnamed: 14\",\"المدينة\"],inplace=True)"
   ]
  },
  {
   "cell_type": "markdown",
   "metadata": {
    "id": "r3-PAmajH-Tp"
   },
   "source": [
    "## Deep analysis"
   ]
  },
  {
   "cell_type": "markdown",
   "metadata": {},
   "source": [
    "## Add necessary columns"
   ]
  },
  {
   "cell_type": "code",
   "execution_count": 23,
   "metadata": {},
   "outputs": [],
   "source": [
    "df = pd.concat([df_2022, df_2023, df_2024], ignore_index=True)"
   ]
  },
  {
   "cell_type": "code",
   "execution_count": 24,
   "metadata": {
    "executionInfo": {
     "elapsed": 337,
     "status": "ok",
     "timestamp": 1732270695133,
     "user": {
      "displayName": "Mamdouh Alsharari",
      "userId": "05698238833697906943"
     },
     "user_tz": -660
    },
    "id": "SKkSaB3hfONI"
   },
   "outputs": [],
   "source": [
    "df['total_employees'] = df['Number_Of_Saudis'] + df['Number_Of_Nonsaudis']"
   ]
  },
  {
   "cell_type": "code",
   "execution_count": 25,
   "metadata": {
    "colab": {
     "base_uri": "https://localhost:8080/",
     "height": 241
    },
    "collapsed": true,
    "executionInfo": {
     "elapsed": 339,
     "status": "ok",
     "timestamp": 1732216268544,
     "user": {
      "displayName": "Mamdouh Alsharari",
      "userId": "05698238833697906943"
     },
     "user_tz": -660
    },
    "id": "h-tp_Z5IIc1e",
    "outputId": "7d2268a3-9134-47e9-e063-f436fd86cb4e"
   },
   "outputs": [
    {
     "data": {
      "text/plain": [
       "متناهية الصغر    22268\n",
       "صغيرة            15666\n",
       "متوسطة            8506\n",
       "كبيرة             4259\n",
       "Name: size, dtype: int64"
      ]
     },
     "execution_count": 25,
     "metadata": {},
     "output_type": "execute_result"
    }
   ],
   "source": [
    "df['size'].value_counts().sort_values(ascending=False)\n"
   ]
  },
  {
   "cell_type": "code",
   "execution_count": 26,
   "metadata": {
    "colab": {
     "base_uri": "https://localhost:8080/",
     "height": 523
    },
    "collapsed": true,
    "executionInfo": {
     "elapsed": 342,
     "status": "ok",
     "timestamp": 1732218176593,
     "user": {
      "displayName": "Mamdouh Alsharari",
      "userId": "05698238833697906943"
     },
     "user_tz": -660
    },
    "id": "p8_xmYD3NGfq",
    "outputId": "cc0df069-ae9e-4caf-cc3f-3bb46de5923e"
   },
   "outputs": [
    {
     "data": {
      "text/plain": [
       "منطقة الرياض             7488\n",
       "المنطقة الشرقية          6741\n",
       "منطقة مكة المكرمة        5890\n",
       "منطقة عسير               4528\n",
       "منطقة القصيم             4335\n",
       "منطقة المدينة المنورة    3819\n",
       "منطقة جازان              3651\n",
       "منطقة تبوك               2843\n",
       "منطقة نجران              2549\n",
       "منطقة حائل               2449\n",
       "منطقة الجوف              2196\n",
       "منطقة الباحة             2193\n",
       "منطقة الحدود الشمالية    2017\n",
       "Name: region, dtype: int64"
      ]
     },
     "execution_count": 26,
     "metadata": {},
     "output_type": "execute_result"
    }
   ],
   "source": [
    "df['region'].value_counts().sort_values(ascending=False)"
   ]
  },
  {
   "cell_type": "code",
   "execution_count": 27,
   "metadata": {
    "colab": {
     "base_uri": "https://localhost:8080/",
     "height": 1000
    },
    "collapsed": true,
    "executionInfo": {
     "elapsed": 322,
     "status": "ok",
     "timestamp": 1732218181079,
     "user": {
      "displayName": "Mamdouh Alsharari",
      "userId": "05698238833697906943"
     },
     "user_tz": -660
    },
    "id": "0AyU5i-k8Tss",
    "outputId": "f704da22-2b2e-4e60-fd53-535b03277f68"
   },
   "outputs": [
    {
     "data": {
      "text/plain": [
       "تشييد المباني                                                                                      1220\n",
       "تجارة التجزئة، باستثناء المركبات ذات المحركات والدراجات النارية                                    1103\n",
       "أنشطة التشييد المتخصصة                                                                             1080\n",
       "أنشطة خدمات الأطعمة والمشروبات                                                                     1063\n",
       "صنع منتجات المعادن اللافلزية الأخرى                                                                1059\n",
       "الصحة البشرية                                                                                      1048\n",
       "النقل البري و النقل عبر الأنابيب                                                                   1047\n",
       "أنشطة تقديم الخدمات للمباني وتجميل المواقع                                                         1013\n",
       "تجارة الجملة ، باستثناء المركبات ذات المحركات والدراجات النارية                                    1005\n",
       "الهندسة المدنية                                                                                     987\n",
       "صُنع المنتجات الغذائية                                                                              987\n",
       "تجارة الجملة والتجزئة ، وإصلاح المركبات ذات المحركات والدراجات النارية                              934\n",
       "أنشطة زراعة المحاصيل والإنتاج الحيواني والصيد والخدمات المتصلة                                      931\n",
       "صنع منتجات المعادن المشكلة ( باستثناء الآلات والمعدات )                                             888\n",
       "التعليم                                                                                             877\n",
       "الإقامة                                                                                             853\n",
       "أنشطة العمل الاجتماعي، دون إقامة                                                                    847\n",
       "غير معرف                                                                                            828\n",
       "إصلاح وتركيب الآلات والمعدات                                                                        819\n",
       "التخزين وأنشطة الدعم للنقل                                                                          805\n",
       "أنشطة الخدمات الشخصية الأخرى                                                                        797\n",
       "الأنشطة الإيجارية                                                                                   782\n",
       "صُنع الملبوسات                                                                                      768\n",
       "أنشطة المعمارية والهندسية ، والاختبارات الفنية والتحليل                                             761\n",
       "الأنشطة الأخرى للتعدين واستغلال المحاجر                                                             752\n",
       "صُنع الخشب ومنتجات الخشب والفلين ، باستثناء الأثاث ، صُنع أصناف من القش ومواد الضفر                 742\n",
       "صنع الأثاث                                                                                          730\n",
       "الأنشطة العقارية                                                                                    729\n",
       "صُنع المواد الكيميائية والمنتجات الكيميائية                                                         722\n",
       "تجميع المياه ومعالجتها وتوصيلها                                                                     715\n",
       "أنشطة الاستخدام                                                                                     709\n",
       "الأنشطة الإدارية للمكاتب ، وأنشطة الدعم للمكاتب وغير ذلك من أنشطة الدعم للأعمال                     700\n",
       "صُنع المشروبات                                                                                      694\n",
       "إصلاح أجهزة الحاسوب والسلع الشخصية والمنزلية                                                        693\n",
       "صنع الفلزات القاعدية                                                                                687\n",
       "صنع منتجات المطاط واللدائن                                                                          640\n",
       "الأنشطة الرياضية وأنشطة التسلية والترفيه                                                            636\n",
       "أبحاث الإعلان والسوق                                                                                627\n",
       "صُنع المنسوجات                                                                                      608\n",
       "أنشطة جمع النفايات ومعالجتها وتصريفها ، واسترجاع المواد                                             584\n",
       "أنشطة المنظمات ذات العضوية                                                                          576\n",
       "توصيل الكهرباء والغاز والبخار وتكييف الهواء                                                         560\n",
       "صنع المعدات الكهربائية                                                                              553\n",
       "الصرف الصحي                                                                                         553\n",
       "صُنع الورق ومنتجات الورق                                                                            540\n",
       "وكالات السفر ومشغّلو الجولات السياحية وخدمات الحجز والأنشطة المتصلة بها                             535\n",
       "الصناعة التحويلية الأخرى                                                                            524\n",
       "الأنشطة القانونية وأنشطة المحاسبة                                                                   523\n",
       "الطباعة واستنساخ وسائط الأعلام المسجّلة                                                             520\n",
       "صناعة الآلات والمعدات غير المصنفة في موضع أخر                                                       510\n",
       "أنشطة الأمن والتحقيقات                                                                              503\n",
       "أنشطة الخدمات المالية ، فيما عدا تمويل التأمين وصناديق المعاشات                                     485\n",
       "أنشطة البرمجة الحاسوبية والخبرة الاستشارية وما يتصل بها من أنشطة                                    483\n",
       "الأنشطة المهنية والعلمية والتقنية الأخرى                                                            467\n",
       "الاتصالات                                                                                           458\n",
       "الإدارة العامة والدفاع ؛ والضمان الاجتماعي الإلزامي                                                 444\n",
       "صيد الأسماك وتربية المائيات                                                                         420\n",
       "صناعة المركبات ذات المحركات والمركبات المقطورة ونصف المقطورة                                        416\n",
       "صنع المنتجات الصيدلانية الأساسية والمستحضرات الصيدلانية                                             413\n",
       "صنع الحواسيب والمنتجات الإلكترونية والبصرية                                                         412\n",
       "الأنشطة البيطرية                                                                                    411\n",
       "أنشطة خدمات دعم التعدين                                                                             395\n",
       "أنشطة المكاتب الرئيسية، والأنشطة الاستشارية في مجال الإدارة                                         387\n",
       "أنشطة النشر                                                                                         377\n",
       "أنشطة البريد ونقل الرسائل والطرود بواسطة مندوبين                                                    371\n",
       "النقل الجوي                                                                                         371\n",
       "النقل المائي                                                                                        365\n",
       "تعدين ركازات الفلزات                                                                                361\n",
       "أنشطة خدمات المعلومات                                                                               354\n",
       "صنع فحم الكوك والمنتجات النفطية المكررة                                                             350\n",
       "الرعاية مع الإقامة                                                                                  345\n",
       "صُنع المنتجات الجلدية والمنتجات ذات الصلة                                                           326\n",
       "الأنشطة المساعدة لأنشطة الخدمات المالية وأنشطة التأمين                                              314\n",
       "صناعة معدات النقل الأخرى                                                                            309\n",
       "الأنشطة الإبداعية والفنون وأنشطة الترفيه                                                            269\n",
       "أنشطة المكتبات والمحفوظات والمتاحف والأنشطة الثقافية الأخرى                                         267\n",
       "البحث والتطوير في المجال العلمي                                                                     256\n",
       "تمويل التأمين وإعادة التأمين وصناديق المعاشات التقاعدية باستثناء الضمان الاجتماعي الإلزامي          217\n",
       "استخراج النفط الخام والغاز الطبيعي                                                                  210\n",
       "الحراجة وقطع الأخشاب                                                                                209\n",
       "أنشطة البرمجة والإذاعة                                                                              204\n",
       "تعدين الفحم والليغنيت                                                                               155\n",
       "أنشطة إنتاج الأفلام والفيديو والبرامج التليفزيونية والتسجيلات الصوتية ونشر الموسيقى                 149\n",
       "أنشطة المعالجة وخدمات إدارة النفايات الأخرى                                                         140\n",
       "أنشطة الاسر المعيشية التي تستخدم أفراداً للعمل المنزلي                                              133\n",
       "الأنشطة غير المتميزة لإنتاج السلع والخدمات التي تقوم بها الأسر المعيشية الخاصة لإستعمالها الخاص      60\n",
       "أنشطة المنظمات والهيئات غير الخاضعة للولاية القضائية الوطنية                                         22\n",
       "صُنع منتجات التبغ                                                                                     4\n",
       "أنشطة انتاج الأفلام والبرامج التلفزيونية والتسجيلات الصوتية والموسيقية                                3\n",
       "Name: Economic_Activity, dtype: int64"
      ]
     },
     "execution_count": 27,
     "metadata": {},
     "output_type": "execute_result"
    }
   ],
   "source": [
    "df['Economic_Activity'].value_counts().sort_values(ascending=False)"
   ]
  },
  {
   "cell_type": "code",
   "execution_count": 28,
   "metadata": {},
   "outputs": [],
   "source": [
    "year_group = df.groupby(['year','Q'])[['Number_Of_Establishments', 'Number_Of_Saudis', 'Number_Of_Male_Saudis', 'Number_Of_Female_Saudis', 'Number_Of_Nonsaudis', 'Number_Of_Male_Nonaudis', 'Number_Of_Female_Nonaudis', 'total_employees']].sum()"
   ]
  },
  {
   "cell_type": "code",
   "execution_count": 81,
   "metadata": {
    "executionInfo": {
     "elapsed": 326,
     "status": "ok",
     "timestamp": 1732223214865,
     "user": {
      "displayName": "Mamdouh Alsharari",
      "userId": "05698238833697906943"
     },
     "user_tz": -660
    },
    "id": "FiWG8KYOLGta"
   },
   "outputs": [],
   "source": [
    "activity_based_on_size = df.groupby(['size', 'Economic_Activity'])[['Number_Of_Establishments', 'Number_Of_Saudis', 'Number_Of_Male_Saudis', 'Number_Of_Female_Saudis', 'Number_Of_Nonsaudis', 'Number_Of_Male_Nonaudis', 'Number_Of_Female_Nonaudis', 'total_employees']].sum()"
   ]
  },
  {
   "cell_type": "code",
   "execution_count": 82,
   "metadata": {
    "executionInfo": {
     "elapsed": 330,
     "status": "ok",
     "timestamp": 1732223217658,
     "user": {
      "displayName": "Mamdouh Alsharari",
      "userId": "05698238833697906943"
     },
     "user_tz": -660
    },
    "id": "56O3IjIrilLe"
   },
   "outputs": [],
   "source": [
    "activity_based_on_size['saudis_percentage'] = (activity_based_on_size['Number_Of_Saudis'] / activity_based_on_size['total_employees'])\n",
    "activity_based_on_size['nonsaudis_percentage'] = (activity_based_on_size['Number_Of_Nonsaudis'] / activity_based_on_size['total_employees'])"
   ]
  },
  {
   "cell_type": "code",
   "execution_count": 83,
   "metadata": {
    "colab": {
     "base_uri": "https://localhost:8080/",
     "height": 1000
    },
    "collapsed": true,
    "executionInfo": {
     "elapsed": 565,
     "status": "ok",
     "timestamp": 1732223220032,
     "user": {
      "displayName": "Mamdouh Alsharari",
      "userId": "05698238833697906943"
     },
     "user_tz": -660
    },
    "id": "5_Gm7E9mLNqz",
    "outputId": "27476fd9-593d-4848-9f4d-b38a5c43a87f"
   },
   "outputs": [
    {
     "data": {
      "text/html": [
       "<div>\n",
       "<style scoped>\n",
       "    .dataframe tbody tr th:only-of-type {\n",
       "        vertical-align: middle;\n",
       "    }\n",
       "\n",
       "    .dataframe tbody tr th {\n",
       "        vertical-align: top;\n",
       "    }\n",
       "\n",
       "    .dataframe thead th {\n",
       "        text-align: right;\n",
       "    }\n",
       "</style>\n",
       "<table border=\"1\" class=\"dataframe\">\n",
       "  <thead>\n",
       "    <tr style=\"text-align: right;\">\n",
       "      <th></th>\n",
       "      <th></th>\n",
       "      <th>Number_Of_Establishments</th>\n",
       "      <th>Number_Of_Saudis</th>\n",
       "      <th>Number_Of_Male_Saudis</th>\n",
       "      <th>Number_Of_Female_Saudis</th>\n",
       "      <th>Number_Of_Nonsaudis</th>\n",
       "      <th>Number_Of_Male_Nonaudis</th>\n",
       "      <th>Number_Of_Female_Nonaudis</th>\n",
       "      <th>total_employees</th>\n",
       "      <th>saudis_percentage</th>\n",
       "      <th>nonsaudis_percentage</th>\n",
       "    </tr>\n",
       "    <tr>\n",
       "      <th>size</th>\n",
       "      <th>Economic_Activity</th>\n",
       "      <th></th>\n",
       "      <th></th>\n",
       "      <th></th>\n",
       "      <th></th>\n",
       "      <th></th>\n",
       "      <th></th>\n",
       "      <th></th>\n",
       "      <th></th>\n",
       "      <th></th>\n",
       "      <th></th>\n",
       "    </tr>\n",
       "  </thead>\n",
       "  <tbody>\n",
       "    <tr>\n",
       "      <th rowspan=\"5\" valign=\"top\">صغيرة</th>\n",
       "      <th>أبحاث الإعلان والسوق</th>\n",
       "      <td>13737</td>\n",
       "      <td>73648</td>\n",
       "      <td>30905</td>\n",
       "      <td>42743</td>\n",
       "      <td>105860</td>\n",
       "      <td>100755</td>\n",
       "      <td>5105</td>\n",
       "      <td>179508</td>\n",
       "      <td>0.410277</td>\n",
       "      <td>0.589723</td>\n",
       "    </tr>\n",
       "    <tr>\n",
       "      <th>أنشطة إنتاج الأفلام والفيديو والبرامج التليفزيونية والتسجيلات الصوتية ونشر الموسيقى</th>\n",
       "      <td>448</td>\n",
       "      <td>3257</td>\n",
       "      <td>1607</td>\n",
       "      <td>1650</td>\n",
       "      <td>3238</td>\n",
       "      <td>2923</td>\n",
       "      <td>315</td>\n",
       "      <td>6495</td>\n",
       "      <td>0.501463</td>\n",
       "      <td>0.498537</td>\n",
       "    </tr>\n",
       "    <tr>\n",
       "      <th>أنشطة الأمن والتحقيقات</th>\n",
       "      <td>1386</td>\n",
       "      <td>21243</td>\n",
       "      <td>18336</td>\n",
       "      <td>2907</td>\n",
       "      <td>3482</td>\n",
       "      <td>3387</td>\n",
       "      <td>95</td>\n",
       "      <td>24725</td>\n",
       "      <td>0.859171</td>\n",
       "      <td>0.140829</td>\n",
       "    </tr>\n",
       "    <tr>\n",
       "      <th>أنشطة الاستخدام</th>\n",
       "      <td>3881</td>\n",
       "      <td>20628</td>\n",
       "      <td>8144</td>\n",
       "      <td>12484</td>\n",
       "      <td>29908</td>\n",
       "      <td>20679</td>\n",
       "      <td>9229</td>\n",
       "      <td>50536</td>\n",
       "      <td>0.408184</td>\n",
       "      <td>0.591816</td>\n",
       "    </tr>\n",
       "    <tr>\n",
       "      <th>أنشطة الاسر المعيشية التي تستخدم أفراداً للعمل المنزلي</th>\n",
       "      <td>27</td>\n",
       "      <td>26</td>\n",
       "      <td>0</td>\n",
       "      <td>26</td>\n",
       "      <td>213</td>\n",
       "      <td>213</td>\n",
       "      <td>0</td>\n",
       "      <td>239</td>\n",
       "      <td>0.108787</td>\n",
       "      <td>0.891213</td>\n",
       "    </tr>\n",
       "  </tbody>\n",
       "</table>\n",
       "</div>"
      ],
      "text/plain": [
       "                                                          Number_Of_Establishments  \\\n",
       "size  Economic_Activity                                                              \n",
       "صغيرة أبحاث الإعلان والسوق                                                   13737   \n",
       "      أنشطة إنتاج الأفلام والفيديو والبرامج التليفزيو...                       448   \n",
       "      أنشطة الأمن والتحقيقات                                                  1386   \n",
       "      أنشطة الاستخدام                                                         3881   \n",
       "      أنشطة الاسر المعيشية التي تستخدم أفراداً للعمل ...                        27   \n",
       "\n",
       "                                                          Number_Of_Saudis  \\\n",
       "size  Economic_Activity                                                      \n",
       "صغيرة أبحاث الإعلان والسوق                                           73648   \n",
       "      أنشطة إنتاج الأفلام والفيديو والبرامج التليفزيو...              3257   \n",
       "      أنشطة الأمن والتحقيقات                                         21243   \n",
       "      أنشطة الاستخدام                                                20628   \n",
       "      أنشطة الاسر المعيشية التي تستخدم أفراداً للعمل ...                26   \n",
       "\n",
       "                                                          Number_Of_Male_Saudis  \\\n",
       "size  Economic_Activity                                                           \n",
       "صغيرة أبحاث الإعلان والسوق                                                30905   \n",
       "      أنشطة إنتاج الأفلام والفيديو والبرامج التليفزيو...                   1607   \n",
       "      أنشطة الأمن والتحقيقات                                              18336   \n",
       "      أنشطة الاستخدام                                                      8144   \n",
       "      أنشطة الاسر المعيشية التي تستخدم أفراداً للعمل ...                      0   \n",
       "\n",
       "                                                          Number_Of_Female_Saudis  \\\n",
       "size  Economic_Activity                                                             \n",
       "صغيرة أبحاث الإعلان والسوق                                                  42743   \n",
       "      أنشطة إنتاج الأفلام والفيديو والبرامج التليفزيو...                     1650   \n",
       "      أنشطة الأمن والتحقيقات                                                 2907   \n",
       "      أنشطة الاستخدام                                                       12484   \n",
       "      أنشطة الاسر المعيشية التي تستخدم أفراداً للعمل ...                       26   \n",
       "\n",
       "                                                          Number_Of_Nonsaudis  \\\n",
       "size  Economic_Activity                                                         \n",
       "صغيرة أبحاث الإعلان والسوق                                             105860   \n",
       "      أنشطة إنتاج الأفلام والفيديو والبرامج التليفزيو...                 3238   \n",
       "      أنشطة الأمن والتحقيقات                                             3482   \n",
       "      أنشطة الاستخدام                                                   29908   \n",
       "      أنشطة الاسر المعيشية التي تستخدم أفراداً للعمل ...                  213   \n",
       "\n",
       "                                                          Number_Of_Male_Nonaudis  \\\n",
       "size  Economic_Activity                                                             \n",
       "صغيرة أبحاث الإعلان والسوق                                                 100755   \n",
       "      أنشطة إنتاج الأفلام والفيديو والبرامج التليفزيو...                     2923   \n",
       "      أنشطة الأمن والتحقيقات                                                 3387   \n",
       "      أنشطة الاستخدام                                                       20679   \n",
       "      أنشطة الاسر المعيشية التي تستخدم أفراداً للعمل ...                      213   \n",
       "\n",
       "                                                          Number_Of_Female_Nonaudis  \\\n",
       "size  Economic_Activity                                                               \n",
       "صغيرة أبحاث الإعلان والسوق                                                     5105   \n",
       "      أنشطة إنتاج الأفلام والفيديو والبرامج التليفزيو...                        315   \n",
       "      أنشطة الأمن والتحقيقات                                                     95   \n",
       "      أنشطة الاستخدام                                                          9229   \n",
       "      أنشطة الاسر المعيشية التي تستخدم أفراداً للعمل ...                          0   \n",
       "\n",
       "                                                          total_employees  \\\n",
       "size  Economic_Activity                                                     \n",
       "صغيرة أبحاث الإعلان والسوق                                         179508   \n",
       "      أنشطة إنتاج الأفلام والفيديو والبرامج التليفزيو...             6495   \n",
       "      أنشطة الأمن والتحقيقات                                        24725   \n",
       "      أنشطة الاستخدام                                               50536   \n",
       "      أنشطة الاسر المعيشية التي تستخدم أفراداً للعمل ...              239   \n",
       "\n",
       "                                                          saudis_percentage  \\\n",
       "size  Economic_Activity                                                       \n",
       "صغيرة أبحاث الإعلان والسوق                                         0.410277   \n",
       "      أنشطة إنتاج الأفلام والفيديو والبرامج التليفزيو...           0.501463   \n",
       "      أنشطة الأمن والتحقيقات                                       0.859171   \n",
       "      أنشطة الاستخدام                                              0.408184   \n",
       "      أنشطة الاسر المعيشية التي تستخدم أفراداً للعمل ...           0.108787   \n",
       "\n",
       "                                                          nonsaudis_percentage  \n",
       "size  Economic_Activity                                                         \n",
       "صغيرة أبحاث الإعلان والسوق                                            0.589723  \n",
       "      أنشطة إنتاج الأفلام والفيديو والبرامج التليفزيو...              0.498537  \n",
       "      أنشطة الأمن والتحقيقات                                          0.140829  \n",
       "      أنشطة الاستخدام                                                 0.591816  \n",
       "      أنشطة الاسر المعيشية التي تستخدم أفراداً للعمل ...              0.891213  "
      ]
     },
     "execution_count": 83,
     "metadata": {},
     "output_type": "execute_result"
    }
   ],
   "source": [
    "activity_based_on_size.head()"
   ]
  },
  {
   "cell_type": "code",
   "execution_count": 84,
   "metadata": {
    "executionInfo": {
     "elapsed": 301,
     "status": "ok",
     "timestamp": 1732224347336,
     "user": {
      "displayName": "Mamdouh Alsharari",
      "userId": "05698238833697906943"
     },
     "user_tz": -660
    },
    "id": "OVLlD69FLe28"
   },
   "outputs": [],
   "source": [
    "size_based_on_region = df.groupby(['region','size'])[['Number_Of_Establishments', 'Number_Of_Saudis', 'Number_Of_Male_Saudis', 'Number_Of_Female_Saudis', 'Number_Of_Nonsaudis', 'Number_Of_Male_Nonaudis', 'Number_Of_Female_Nonaudis', 'total_employees']].sum()"
   ]
  },
  {
   "cell_type": "code",
   "execution_count": 85,
   "metadata": {
    "executionInfo": {
     "elapsed": 322,
     "status": "ok",
     "timestamp": 1732224422115,
     "user": {
      "displayName": "Mamdouh Alsharari",
      "userId": "05698238833697906943"
     },
     "user_tz": -660
    },
    "id": "_ZAHqXwqnk9t"
   },
   "outputs": [],
   "source": [
    "size_based_on_region['saudis_percentage'] = (size_based_on_region['Number_Of_Saudis'] / size_based_on_region['total_employees'])\n",
    "size_based_on_region['nonsaudis_percentage'] = (size_based_on_region['Number_Of_Nonsaudis'] / size_based_on_region['total_employees'])"
   ]
  },
  {
   "cell_type": "code",
   "execution_count": 86,
   "metadata": {
    "colab": {
     "base_uri": "https://localhost:8080/",
     "height": 1000
    },
    "collapsed": true,
    "executionInfo": {
     "elapsed": 347,
     "status": "ok",
     "timestamp": 1732224424172,
     "user": {
      "displayName": "Mamdouh Alsharari",
      "userId": "05698238833697906943"
     },
     "user_tz": -660
    },
    "id": "edYj5alMLk-6",
    "outputId": "f512d1ca-3470-4231-e079-72a95299072b"
   },
   "outputs": [
    {
     "data": {
      "text/html": [
       "<div>\n",
       "<style scoped>\n",
       "    .dataframe tbody tr th:only-of-type {\n",
       "        vertical-align: middle;\n",
       "    }\n",
       "\n",
       "    .dataframe tbody tr th {\n",
       "        vertical-align: top;\n",
       "    }\n",
       "\n",
       "    .dataframe thead th {\n",
       "        text-align: right;\n",
       "    }\n",
       "</style>\n",
       "<table border=\"1\" class=\"dataframe\">\n",
       "  <thead>\n",
       "    <tr style=\"text-align: right;\">\n",
       "      <th></th>\n",
       "      <th></th>\n",
       "      <th>Number_Of_Establishments</th>\n",
       "      <th>Number_Of_Saudis</th>\n",
       "      <th>Number_Of_Male_Saudis</th>\n",
       "      <th>Number_Of_Female_Saudis</th>\n",
       "      <th>Number_Of_Nonsaudis</th>\n",
       "      <th>Number_Of_Male_Nonaudis</th>\n",
       "      <th>Number_Of_Female_Nonaudis</th>\n",
       "      <th>total_employees</th>\n",
       "      <th>saudis_percentage</th>\n",
       "      <th>nonsaudis_percentage</th>\n",
       "    </tr>\n",
       "    <tr>\n",
       "      <th>region</th>\n",
       "      <th>size</th>\n",
       "      <th></th>\n",
       "      <th></th>\n",
       "      <th></th>\n",
       "      <th></th>\n",
       "      <th></th>\n",
       "      <th></th>\n",
       "      <th></th>\n",
       "      <th></th>\n",
       "      <th></th>\n",
       "      <th></th>\n",
       "    </tr>\n",
       "  </thead>\n",
       "  <tbody>\n",
       "    <tr>\n",
       "      <th rowspan=\"4\" valign=\"top\">المنطقة الشرقية</th>\n",
       "      <th>صغيرة</th>\n",
       "      <td>305223</td>\n",
       "      <td>1074845</td>\n",
       "      <td>542234</td>\n",
       "      <td>532611</td>\n",
       "      <td>3349180</td>\n",
       "      <td>3275525</td>\n",
       "      <td>73655</td>\n",
       "      <td>4424025</td>\n",
       "      <td>0.242956</td>\n",
       "      <td>0.757044</td>\n",
       "    </tr>\n",
       "    <tr>\n",
       "      <th>كبيرة</th>\n",
       "      <td>9992</td>\n",
       "      <td>3330916</td>\n",
       "      <td>2735116</td>\n",
       "      <td>595800</td>\n",
       "      <td>6956702</td>\n",
       "      <td>6625103</td>\n",
       "      <td>331599</td>\n",
       "      <td>10287618</td>\n",
       "      <td>0.323779</td>\n",
       "      <td>0.676221</td>\n",
       "    </tr>\n",
       "    <tr>\n",
       "      <th>متناهية الصغر</th>\n",
       "      <td>1132140</td>\n",
       "      <td>376282</td>\n",
       "      <td>189364</td>\n",
       "      <td>186918</td>\n",
       "      <td>2413241</td>\n",
       "      <td>2379813</td>\n",
       "      <td>33428</td>\n",
       "      <td>2789523</td>\n",
       "      <td>0.134891</td>\n",
       "      <td>0.865109</td>\n",
       "    </tr>\n",
       "    <tr>\n",
       "      <th>متوسطة</th>\n",
       "      <td>41201</td>\n",
       "      <td>1161015</td>\n",
       "      <td>706746</td>\n",
       "      <td>454269</td>\n",
       "      <td>3043967</td>\n",
       "      <td>2975533</td>\n",
       "      <td>68434</td>\n",
       "      <td>4204982</td>\n",
       "      <td>0.276105</td>\n",
       "      <td>0.723895</td>\n",
       "    </tr>\n",
       "    <tr>\n",
       "      <th>منطقة الباحة</th>\n",
       "      <th>صغيرة</th>\n",
       "      <td>12904</td>\n",
       "      <td>36018</td>\n",
       "      <td>21857</td>\n",
       "      <td>14161</td>\n",
       "      <td>114707</td>\n",
       "      <td>111178</td>\n",
       "      <td>3529</td>\n",
       "      <td>150725</td>\n",
       "      <td>0.238965</td>\n",
       "      <td>0.761035</td>\n",
       "    </tr>\n",
       "  </tbody>\n",
       "</table>\n",
       "</div>"
      ],
      "text/plain": [
       "                               Number_Of_Establishments  Number_Of_Saudis  \\\n",
       "region          size                                                        \n",
       "المنطقة الشرقية صغيرة                            305223           1074845   \n",
       "                كبيرة                              9992           3330916   \n",
       "                متناهية الصغر                   1132140            376282   \n",
       "                متوسطة                            41201           1161015   \n",
       "منطقة الباحة    صغيرة                             12904             36018   \n",
       "\n",
       "                               Number_Of_Male_Saudis  Number_Of_Female_Saudis  \\\n",
       "region          size                                                            \n",
       "المنطقة الشرقية صغيرة                         542234                   532611   \n",
       "                كبيرة                        2735116                   595800   \n",
       "                متناهية الصغر                 189364                   186918   \n",
       "                متوسطة                        706746                   454269   \n",
       "منطقة الباحة    صغيرة                          21857                    14161   \n",
       "\n",
       "                               Number_Of_Nonsaudis  Number_Of_Male_Nonaudis  \\\n",
       "region          size                                                          \n",
       "المنطقة الشرقية صغيرة                      3349180                  3275525   \n",
       "                كبيرة                      6956702                  6625103   \n",
       "                متناهية الصغر              2413241                  2379813   \n",
       "                متوسطة                     3043967                  2975533   \n",
       "منطقة الباحة    صغيرة                       114707                   111178   \n",
       "\n",
       "                               Number_Of_Female_Nonaudis  total_employees  \\\n",
       "region          size                                                        \n",
       "المنطقة الشرقية صغيرة                              73655          4424025   \n",
       "                كبيرة                             331599         10287618   \n",
       "                متناهية الصغر                      33428          2789523   \n",
       "                متوسطة                             68434          4204982   \n",
       "منطقة الباحة    صغيرة                               3529           150725   \n",
       "\n",
       "                               saudis_percentage  nonsaudis_percentage  \n",
       "region          size                                                    \n",
       "المنطقة الشرقية صغيرة                   0.242956              0.757044  \n",
       "                كبيرة                   0.323779              0.676221  \n",
       "                متناهية الصغر           0.134891              0.865109  \n",
       "                متوسطة                  0.276105              0.723895  \n",
       "منطقة الباحة    صغيرة                   0.238965              0.761035  "
      ]
     },
     "execution_count": 86,
     "metadata": {},
     "output_type": "execute_result"
    }
   ],
   "source": [
    "size_based_on_region.head()"
   ]
  },
  {
   "cell_type": "code",
   "execution_count": 87,
   "metadata": {
    "executionInfo": {
     "elapsed": 304,
     "status": "ok",
     "timestamp": 1732224516353,
     "user": {
      "displayName": "Mamdouh Alsharari",
      "userId": "05698238833697906943"
     },
     "user_tz": -660
    },
    "id": "pm9mAuUwZU0_"
   },
   "outputs": [],
   "source": [
    "region_based_on_size = df.groupby(['size', 'region'])[['Number_Of_Establishments', 'Number_Of_Saudis', 'Number_Of_Male_Saudis', 'Number_Of_Female_Saudis', 'Number_Of_Nonsaudis', 'Number_Of_Male_Nonaudis', 'Number_Of_Female_Nonaudis', 'total_employees']].sum()"
   ]
  },
  {
   "cell_type": "code",
   "execution_count": 88,
   "metadata": {
    "executionInfo": {
     "elapsed": 419,
     "status": "ok",
     "timestamp": 1732224588078,
     "user": {
      "displayName": "Mamdouh Alsharari",
      "userId": "05698238833697906943"
     },
     "user_tz": -660
    },
    "id": "y6K1eFW9oL0H"
   },
   "outputs": [],
   "source": [
    "region_based_on_size['saudis_percentage'] = (region_based_on_size['Number_Of_Saudis'] / region_based_on_size['total_employees'])\n",
    "region_based_on_size['nonsaudis_percentage'] = (region_based_on_size['Number_Of_Nonsaudis'] / region_based_on_size['total_employees'])"
   ]
  },
  {
   "cell_type": "code",
   "execution_count": 89,
   "metadata": {
    "colab": {
     "base_uri": "https://localhost:8080/",
     "height": 1000
    },
    "collapsed": true,
    "executionInfo": {
     "elapsed": 323,
     "status": "ok",
     "timestamp": 1732224589899,
     "user": {
      "displayName": "Mamdouh Alsharari",
      "userId": "05698238833697906943"
     },
     "user_tz": -660
    },
    "id": "0C8FlEX2ZyGT",
    "outputId": "ac70a950-1017-4e51-d3d1-945508cf8b5d"
   },
   "outputs": [
    {
     "data": {
      "text/html": [
       "<div>\n",
       "<style scoped>\n",
       "    .dataframe tbody tr th:only-of-type {\n",
       "        vertical-align: middle;\n",
       "    }\n",
       "\n",
       "    .dataframe tbody tr th {\n",
       "        vertical-align: top;\n",
       "    }\n",
       "\n",
       "    .dataframe thead th {\n",
       "        text-align: right;\n",
       "    }\n",
       "</style>\n",
       "<table border=\"1\" class=\"dataframe\">\n",
       "  <thead>\n",
       "    <tr style=\"text-align: right;\">\n",
       "      <th></th>\n",
       "      <th></th>\n",
       "      <th>Number_Of_Establishments</th>\n",
       "      <th>Number_Of_Saudis</th>\n",
       "      <th>Number_Of_Male_Saudis</th>\n",
       "      <th>Number_Of_Female_Saudis</th>\n",
       "      <th>Number_Of_Nonsaudis</th>\n",
       "      <th>Number_Of_Male_Nonaudis</th>\n",
       "      <th>Number_Of_Female_Nonaudis</th>\n",
       "      <th>total_employees</th>\n",
       "      <th>saudis_percentage</th>\n",
       "      <th>nonsaudis_percentage</th>\n",
       "    </tr>\n",
       "    <tr>\n",
       "      <th>size</th>\n",
       "      <th>region</th>\n",
       "      <th></th>\n",
       "      <th></th>\n",
       "      <th></th>\n",
       "      <th></th>\n",
       "      <th></th>\n",
       "      <th></th>\n",
       "      <th></th>\n",
       "      <th></th>\n",
       "      <th></th>\n",
       "      <th></th>\n",
       "    </tr>\n",
       "  </thead>\n",
       "  <tbody>\n",
       "    <tr>\n",
       "      <th rowspan=\"5\" valign=\"top\">صغيرة</th>\n",
       "      <th>المنطقة الشرقية</th>\n",
       "      <td>305223</td>\n",
       "      <td>1074845</td>\n",
       "      <td>542234</td>\n",
       "      <td>532611</td>\n",
       "      <td>3349180</td>\n",
       "      <td>3275525</td>\n",
       "      <td>73655</td>\n",
       "      <td>4424025</td>\n",
       "      <td>0.242956</td>\n",
       "      <td>0.757044</td>\n",
       "    </tr>\n",
       "    <tr>\n",
       "      <th>منطقة الباحة</th>\n",
       "      <td>12904</td>\n",
       "      <td>36018</td>\n",
       "      <td>21857</td>\n",
       "      <td>14161</td>\n",
       "      <td>114707</td>\n",
       "      <td>111178</td>\n",
       "      <td>3529</td>\n",
       "      <td>150725</td>\n",
       "      <td>0.238965</td>\n",
       "      <td>0.761035</td>\n",
       "    </tr>\n",
       "    <tr>\n",
       "      <th>منطقة الجوف</th>\n",
       "      <td>17570</td>\n",
       "      <td>48652</td>\n",
       "      <td>28067</td>\n",
       "      <td>20585</td>\n",
       "      <td>161435</td>\n",
       "      <td>156880</td>\n",
       "      <td>4555</td>\n",
       "      <td>210087</td>\n",
       "      <td>0.231580</td>\n",
       "      <td>0.768420</td>\n",
       "    </tr>\n",
       "    <tr>\n",
       "      <th>منطقة الحدود الشمالية</th>\n",
       "      <td>10457</td>\n",
       "      <td>28302</td>\n",
       "      <td>14450</td>\n",
       "      <td>13852</td>\n",
       "      <td>99349</td>\n",
       "      <td>95661</td>\n",
       "      <td>3688</td>\n",
       "      <td>127651</td>\n",
       "      <td>0.221714</td>\n",
       "      <td>0.778286</td>\n",
       "    </tr>\n",
       "    <tr>\n",
       "      <th>منطقة الرياض</th>\n",
       "      <td>588676</td>\n",
       "      <td>2168089</td>\n",
       "      <td>946464</td>\n",
       "      <td>1221625</td>\n",
       "      <td>6538255</td>\n",
       "      <td>6309727</td>\n",
       "      <td>228528</td>\n",
       "      <td>8706344</td>\n",
       "      <td>0.249024</td>\n",
       "      <td>0.750976</td>\n",
       "    </tr>\n",
       "  </tbody>\n",
       "</table>\n",
       "</div>"
      ],
      "text/plain": [
       "                             Number_Of_Establishments  Number_Of_Saudis  \\\n",
       "size  region                                                              \n",
       "صغيرة المنطقة الشرقية                          305223           1074845   \n",
       "      منطقة الباحة                              12904             36018   \n",
       "      منطقة الجوف                               17570             48652   \n",
       "      منطقة الحدود الشمالية                     10457             28302   \n",
       "      منطقة الرياض                             588676           2168089   \n",
       "\n",
       "                             Number_Of_Male_Saudis  Number_Of_Female_Saudis  \\\n",
       "size  region                                                                  \n",
       "صغيرة المنطقة الشرقية                       542234                   532611   \n",
       "      منطقة الباحة                           21857                    14161   \n",
       "      منطقة الجوف                            28067                    20585   \n",
       "      منطقة الحدود الشمالية                  14450                    13852   \n",
       "      منطقة الرياض                          946464                  1221625   \n",
       "\n",
       "                             Number_Of_Nonsaudis  Number_Of_Male_Nonaudis  \\\n",
       "size  region                                                                \n",
       "صغيرة المنطقة الشرقية                    3349180                  3275525   \n",
       "      منطقة الباحة                        114707                   111178   \n",
       "      منطقة الجوف                         161435                   156880   \n",
       "      منطقة الحدود الشمالية                99349                    95661   \n",
       "      منطقة الرياض                       6538255                  6309727   \n",
       "\n",
       "                             Number_Of_Female_Nonaudis  total_employees  \\\n",
       "size  region                                                              \n",
       "صغيرة المنطقة الشرقية                            73655          4424025   \n",
       "      منطقة الباحة                                3529           150725   \n",
       "      منطقة الجوف                                 4555           210087   \n",
       "      منطقة الحدود الشمالية                       3688           127651   \n",
       "      منطقة الرياض                              228528          8706344   \n",
       "\n",
       "                             saudis_percentage  nonsaudis_percentage  \n",
       "size  region                                                          \n",
       "صغيرة المنطقة الشرقية                 0.242956              0.757044  \n",
       "      منطقة الباحة                    0.238965              0.761035  \n",
       "      منطقة الجوف                     0.231580              0.768420  \n",
       "      منطقة الحدود الشمالية           0.221714              0.778286  \n",
       "      منطقة الرياض                    0.249024              0.750976  "
      ]
     },
     "execution_count": 89,
     "metadata": {},
     "output_type": "execute_result"
    }
   ],
   "source": [
    "region_based_on_size.head()"
   ]
  },
  {
   "cell_type": "code",
   "execution_count": 91,
   "metadata": {
    "executionInfo": {
     "elapsed": 351,
     "status": "ok",
     "timestamp": 1732272710869,
     "user": {
      "displayName": "Mamdouh Alsharari",
      "userId": "05698238833697906943"
     },
     "user_tz": -660
    },
    "id": "Qsw7qkL2qjFm"
   },
   "outputs": [],
   "source": [
    "activity_based_on_region = df.groupby(['region'])[['Number_Of_Establishments', 'Number_Of_Saudis', 'Number_Of_Male_Saudis', 'Number_Of_Female_Saudis', 'Number_Of_Nonsaudis', 'Number_Of_Male_Nonaudis', 'Number_Of_Female_Nonaudis', 'total_employees']].sum()"
   ]
  },
  {
   "cell_type": "code",
   "execution_count": 92,
   "metadata": {
    "executionInfo": {
     "elapsed": 314,
     "status": "ok",
     "timestamp": 1732272712707,
     "user": {
      "displayName": "Mamdouh Alsharari",
      "userId": "05698238833697906943"
     },
     "user_tz": -660
    },
    "id": "gB27YFJJrUXd"
   },
   "outputs": [],
   "source": [
    "activity_based_on_region['saudis_percentage'] = (activity_based_on_region['Number_Of_Saudis'] / activity_based_on_region['total_employees'])\n",
    "activity_based_on_region['nonsaudis_percentage'] = (activity_based_on_region['Number_Of_Nonsaudis'] / activity_based_on_region['total_employees'])"
   ]
  },
  {
   "cell_type": "code",
   "execution_count": 93,
   "metadata": {
    "colab": {
     "base_uri": "https://localhost:8080/",
     "height": 786
    },
    "collapsed": true,
    "executionInfo": {
     "elapsed": 331,
     "status": "ok",
     "timestamp": 1732272714235,
     "user": {
      "displayName": "Mamdouh Alsharari",
      "userId": "05698238833697906943"
     },
     "user_tz": -660
    },
    "id": "R8XtQaqEriod",
    "outputId": "296d0a71-9171-4034-a368-a268c706cefa"
   },
   "outputs": [
    {
     "data": {
      "text/html": [
       "<div>\n",
       "<style scoped>\n",
       "    .dataframe tbody tr th:only-of-type {\n",
       "        vertical-align: middle;\n",
       "    }\n",
       "\n",
       "    .dataframe tbody tr th {\n",
       "        vertical-align: top;\n",
       "    }\n",
       "\n",
       "    .dataframe thead th {\n",
       "        text-align: right;\n",
       "    }\n",
       "</style>\n",
       "<table border=\"1\" class=\"dataframe\">\n",
       "  <thead>\n",
       "    <tr style=\"text-align: right;\">\n",
       "      <th></th>\n",
       "      <th>Number_Of_Establishments</th>\n",
       "      <th>Number_Of_Saudis</th>\n",
       "      <th>Number_Of_Male_Saudis</th>\n",
       "      <th>Number_Of_Female_Saudis</th>\n",
       "      <th>Number_Of_Nonsaudis</th>\n",
       "      <th>Number_Of_Male_Nonaudis</th>\n",
       "      <th>Number_Of_Female_Nonaudis</th>\n",
       "      <th>total_employees</th>\n",
       "      <th>saudis_percentage</th>\n",
       "      <th>nonsaudis_percentage</th>\n",
       "    </tr>\n",
       "    <tr>\n",
       "      <th>region</th>\n",
       "      <th></th>\n",
       "      <th></th>\n",
       "      <th></th>\n",
       "      <th></th>\n",
       "      <th></th>\n",
       "      <th></th>\n",
       "      <th></th>\n",
       "      <th></th>\n",
       "      <th></th>\n",
       "      <th></th>\n",
       "    </tr>\n",
       "  </thead>\n",
       "  <tbody>\n",
       "    <tr>\n",
       "      <th>المنطقة الشرقية</th>\n",
       "      <td>1488556</td>\n",
       "      <td>5943058</td>\n",
       "      <td>4173460</td>\n",
       "      <td>1769598</td>\n",
       "      <td>15763090</td>\n",
       "      <td>15255974</td>\n",
       "      <td>507116</td>\n",
       "      <td>21706148</td>\n",
       "      <td>0.273796</td>\n",
       "      <td>0.726204</td>\n",
       "    </tr>\n",
       "    <tr>\n",
       "      <th>منطقة الباحة</th>\n",
       "      <td>110232</td>\n",
       "      <td>76897</td>\n",
       "      <td>48202</td>\n",
       "      <td>28695</td>\n",
       "      <td>357668</td>\n",
       "      <td>351001</td>\n",
       "      <td>6667</td>\n",
       "      <td>434565</td>\n",
       "      <td>0.176952</td>\n",
       "      <td>0.823048</td>\n",
       "    </tr>\n",
       "    <tr>\n",
       "      <th>منطقة الجوف</th>\n",
       "      <td>185026</td>\n",
       "      <td>114683</td>\n",
       "      <td>68224</td>\n",
       "      <td>46459</td>\n",
       "      <td>587960</td>\n",
       "      <td>575734</td>\n",
       "      <td>12226</td>\n",
       "      <td>702643</td>\n",
       "      <td>0.163217</td>\n",
       "      <td>0.836783</td>\n",
       "    </tr>\n",
       "    <tr>\n",
       "      <th>منطقة الحدود الشمالية</th>\n",
       "      <td>121574</td>\n",
       "      <td>77381</td>\n",
       "      <td>45623</td>\n",
       "      <td>31758</td>\n",
       "      <td>431872</td>\n",
       "      <td>418817</td>\n",
       "      <td>13055</td>\n",
       "      <td>509253</td>\n",
       "      <td>0.151950</td>\n",
       "      <td>0.848050</td>\n",
       "    </tr>\n",
       "    <tr>\n",
       "      <th>منطقة الرياض</th>\n",
       "      <td>5564655</td>\n",
       "      <td>11163882</td>\n",
       "      <td>6426942</td>\n",
       "      <td>4736940</td>\n",
       "      <td>39319163</td>\n",
       "      <td>37271760</td>\n",
       "      <td>2047403</td>\n",
       "      <td>50483045</td>\n",
       "      <td>0.221141</td>\n",
       "      <td>0.778859</td>\n",
       "    </tr>\n",
       "  </tbody>\n",
       "</table>\n",
       "</div>"
      ],
      "text/plain": [
       "                       Number_Of_Establishments  Number_Of_Saudis  \\\n",
       "region                                                              \n",
       "المنطقة الشرقية                         1488556           5943058   \n",
       "منطقة الباحة                             110232             76897   \n",
       "منطقة الجوف                              185026            114683   \n",
       "منطقة الحدود الشمالية                    121574             77381   \n",
       "منطقة الرياض                            5564655          11163882   \n",
       "\n",
       "                       Number_Of_Male_Saudis  Number_Of_Female_Saudis  \\\n",
       "region                                                                  \n",
       "المنطقة الشرقية                      4173460                  1769598   \n",
       "منطقة الباحة                           48202                    28695   \n",
       "منطقة الجوف                            68224                    46459   \n",
       "منطقة الحدود الشمالية                  45623                    31758   \n",
       "منطقة الرياض                         6426942                  4736940   \n",
       "\n",
       "                       Number_Of_Nonsaudis  Number_Of_Male_Nonaudis  \\\n",
       "region                                                                \n",
       "المنطقة الشرقية                   15763090                 15255974   \n",
       "منطقة الباحة                        357668                   351001   \n",
       "منطقة الجوف                         587960                   575734   \n",
       "منطقة الحدود الشمالية               431872                   418817   \n",
       "منطقة الرياض                      39319163                 37271760   \n",
       "\n",
       "                       Number_Of_Female_Nonaudis  total_employees  \\\n",
       "region                                                              \n",
       "المنطقة الشرقية                           507116         21706148   \n",
       "منطقة الباحة                                6667           434565   \n",
       "منطقة الجوف                                12226           702643   \n",
       "منطقة الحدود الشمالية                      13055           509253   \n",
       "منطقة الرياض                             2047403         50483045   \n",
       "\n",
       "                       saudis_percentage  nonsaudis_percentage  \n",
       "region                                                          \n",
       "المنطقة الشرقية                 0.273796              0.726204  \n",
       "منطقة الباحة                    0.176952              0.823048  \n",
       "منطقة الجوف                     0.163217              0.836783  \n",
       "منطقة الحدود الشمالية           0.151950              0.848050  \n",
       "منطقة الرياض                    0.221141              0.778859  "
      ]
     },
     "execution_count": 93,
     "metadata": {},
     "output_type": "execute_result"
    }
   ],
   "source": [
    "activity_based_on_region.head()"
   ]
  },
  {
   "cell_type": "code",
   "execution_count": 96,
   "metadata": {
    "executionInfo": {
     "elapsed": 296,
     "status": "ok",
     "timestamp": 1732225716105,
     "user": {
      "displayName": "Mamdouh Alsharari",
      "userId": "05698238833697906943"
     },
     "user_tz": -660
    },
    "id": "QAkLb6NNsGM6"
   },
   "outputs": [],
   "source": [
    "region_based_on_activity = df.groupby(['Economic_Activity', 'region'])[['Number_Of_Establishments', 'Number_Of_Saudis', 'Number_Of_Male_Saudis', 'Number_Of_Female_Saudis', 'Number_Of_Nonsaudis', 'Number_Of_Male_Nonaudis', 'Number_Of_Female_Nonaudis', 'total_employees']].sum()"
   ]
  },
  {
   "cell_type": "code",
   "execution_count": 97,
   "metadata": {
    "executionInfo": {
     "elapsed": 304,
     "status": "ok",
     "timestamp": 1732225755236,
     "user": {
      "displayName": "Mamdouh Alsharari",
      "userId": "05698238833697906943"
     },
     "user_tz": -660
    },
    "id": "CpQvDqg9stiX"
   },
   "outputs": [],
   "source": [
    "region_based_on_activity['saudis_percentage'] = (region_based_on_activity['Number_Of_Saudis'] / region_based_on_activity['total_employees'])\n",
    "region_based_on_activity['nonsaudis_percentage'] = (region_based_on_activity['Number_Of_Nonsaudis'] / region_based_on_activity['total_employees'])"
   ]
  },
  {
   "cell_type": "code",
   "execution_count": 98,
   "metadata": {
    "colab": {
     "base_uri": "https://localhost:8080/",
     "height": 1000
    },
    "collapsed": true,
    "executionInfo": {
     "elapsed": 1003,
     "status": "ok",
     "timestamp": 1732226752867,
     "user": {
      "displayName": "Mamdouh Alsharari",
      "userId": "05698238833697906943"
     },
     "user_tz": -660
    },
    "id": "XFSMeW22s3bS",
    "outputId": "5676febd-1833-4fe0-f533-74eb6f42908d"
   },
   "outputs": [
    {
     "data": {
      "text/html": [
       "<div>\n",
       "<style scoped>\n",
       "    .dataframe tbody tr th:only-of-type {\n",
       "        vertical-align: middle;\n",
       "    }\n",
       "\n",
       "    .dataframe tbody tr th {\n",
       "        vertical-align: top;\n",
       "    }\n",
       "\n",
       "    .dataframe thead th {\n",
       "        text-align: right;\n",
       "    }\n",
       "</style>\n",
       "<table border=\"1\" class=\"dataframe\">\n",
       "  <thead>\n",
       "    <tr style=\"text-align: right;\">\n",
       "      <th></th>\n",
       "      <th></th>\n",
       "      <th>Number_Of_Establishments</th>\n",
       "      <th>Number_Of_Saudis</th>\n",
       "      <th>Number_Of_Male_Saudis</th>\n",
       "      <th>Number_Of_Female_Saudis</th>\n",
       "      <th>Number_Of_Nonsaudis</th>\n",
       "      <th>Number_Of_Male_Nonaudis</th>\n",
       "      <th>Number_Of_Female_Nonaudis</th>\n",
       "      <th>total_employees</th>\n",
       "      <th>saudis_percentage</th>\n",
       "      <th>nonsaudis_percentage</th>\n",
       "    </tr>\n",
       "    <tr>\n",
       "      <th>Economic_Activity</th>\n",
       "      <th>region</th>\n",
       "      <th></th>\n",
       "      <th></th>\n",
       "      <th></th>\n",
       "      <th></th>\n",
       "      <th></th>\n",
       "      <th></th>\n",
       "      <th></th>\n",
       "      <th></th>\n",
       "      <th></th>\n",
       "      <th></th>\n",
       "    </tr>\n",
       "  </thead>\n",
       "  <tbody>\n",
       "    <tr>\n",
       "      <th rowspan=\"5\" valign=\"top\">أبحاث الإعلان والسوق</th>\n",
       "      <th>المنطقة الشرقية</th>\n",
       "      <td>9939</td>\n",
       "      <td>26985</td>\n",
       "      <td>14510</td>\n",
       "      <td>12475</td>\n",
       "      <td>47798</td>\n",
       "      <td>47143</td>\n",
       "      <td>655</td>\n",
       "      <td>74783</td>\n",
       "      <td>0.360844</td>\n",
       "      <td>0.639156</td>\n",
       "    </tr>\n",
       "    <tr>\n",
       "      <th>منطقة الباحة</th>\n",
       "      <td>306</td>\n",
       "      <td>228</td>\n",
       "      <td>124</td>\n",
       "      <td>104</td>\n",
       "      <td>659</td>\n",
       "      <td>659</td>\n",
       "      <td>0</td>\n",
       "      <td>887</td>\n",
       "      <td>0.257046</td>\n",
       "      <td>0.742954</td>\n",
       "    </tr>\n",
       "    <tr>\n",
       "      <th>منطقة الجوف</th>\n",
       "      <td>800</td>\n",
       "      <td>219</td>\n",
       "      <td>130</td>\n",
       "      <td>89</td>\n",
       "      <td>1843</td>\n",
       "      <td>1826</td>\n",
       "      <td>17</td>\n",
       "      <td>2062</td>\n",
       "      <td>0.106208</td>\n",
       "      <td>0.893792</td>\n",
       "    </tr>\n",
       "    <tr>\n",
       "      <th>منطقة الحدود الشمالية</th>\n",
       "      <td>321</td>\n",
       "      <td>209</td>\n",
       "      <td>83</td>\n",
       "      <td>126</td>\n",
       "      <td>808</td>\n",
       "      <td>808</td>\n",
       "      <td>0</td>\n",
       "      <td>1017</td>\n",
       "      <td>0.205506</td>\n",
       "      <td>0.794494</td>\n",
       "    </tr>\n",
       "    <tr>\n",
       "      <th>منطقة الرياض</th>\n",
       "      <td>29557</td>\n",
       "      <td>148168</td>\n",
       "      <td>95791</td>\n",
       "      <td>52377</td>\n",
       "      <td>119578</td>\n",
       "      <td>109910</td>\n",
       "      <td>9668</td>\n",
       "      <td>267746</td>\n",
       "      <td>0.553390</td>\n",
       "      <td>0.446610</td>\n",
       "    </tr>\n",
       "  </tbody>\n",
       "</table>\n",
       "</div>"
      ],
      "text/plain": [
       "                                            Number_Of_Establishments  \\\n",
       "Economic_Activity    region                                            \n",
       "أبحاث الإعلان والسوق المنطقة الشرقية                            9939   \n",
       "                     منطقة الباحة                                306   \n",
       "                     منطقة الجوف                                 800   \n",
       "                     منطقة الحدود الشمالية                       321   \n",
       "                     منطقة الرياض                              29557   \n",
       "\n",
       "                                            Number_Of_Saudis  \\\n",
       "Economic_Activity    region                                    \n",
       "أبحاث الإعلان والسوق المنطقة الشرقية                   26985   \n",
       "                     منطقة الباحة                        228   \n",
       "                     منطقة الجوف                         219   \n",
       "                     منطقة الحدود الشمالية               209   \n",
       "                     منطقة الرياض                     148168   \n",
       "\n",
       "                                            Number_Of_Male_Saudis  \\\n",
       "Economic_Activity    region                                         \n",
       "أبحاث الإعلان والسوق المنطقة الشرقية                        14510   \n",
       "                     منطقة الباحة                             124   \n",
       "                     منطقة الجوف                              130   \n",
       "                     منطقة الحدود الشمالية                     83   \n",
       "                     منطقة الرياض                           95791   \n",
       "\n",
       "                                            Number_Of_Female_Saudis  \\\n",
       "Economic_Activity    region                                           \n",
       "أبحاث الإعلان والسوق المنطقة الشرقية                          12475   \n",
       "                     منطقة الباحة                               104   \n",
       "                     منطقة الجوف                                 89   \n",
       "                     منطقة الحدود الشمالية                      126   \n",
       "                     منطقة الرياض                             52377   \n",
       "\n",
       "                                            Number_Of_Nonsaudis  \\\n",
       "Economic_Activity    region                                       \n",
       "أبحاث الإعلان والسوق المنطقة الشرقية                      47798   \n",
       "                     منطقة الباحة                           659   \n",
       "                     منطقة الجوف                           1843   \n",
       "                     منطقة الحدود الشمالية                  808   \n",
       "                     منطقة الرياض                        119578   \n",
       "\n",
       "                                            Number_Of_Male_Nonaudis  \\\n",
       "Economic_Activity    region                                           \n",
       "أبحاث الإعلان والسوق المنطقة الشرقية                          47143   \n",
       "                     منطقة الباحة                               659   \n",
       "                     منطقة الجوف                               1826   \n",
       "                     منطقة الحدود الشمالية                      808   \n",
       "                     منطقة الرياض                            109910   \n",
       "\n",
       "                                            Number_Of_Female_Nonaudis  \\\n",
       "Economic_Activity    region                                             \n",
       "أبحاث الإعلان والسوق المنطقة الشرقية                              655   \n",
       "                     منطقة الباحة                                   0   \n",
       "                     منطقة الجوف                                   17   \n",
       "                     منطقة الحدود الشمالية                          0   \n",
       "                     منطقة الرياض                                9668   \n",
       "\n",
       "                                            total_employees  \\\n",
       "Economic_Activity    region                                   \n",
       "أبحاث الإعلان والسوق المنطقة الشرقية                  74783   \n",
       "                     منطقة الباحة                       887   \n",
       "                     منطقة الجوف                       2062   \n",
       "                     منطقة الحدود الشمالية             1017   \n",
       "                     منطقة الرياض                    267746   \n",
       "\n",
       "                                            saudis_percentage  \\\n",
       "Economic_Activity    region                                     \n",
       "أبحاث الإعلان والسوق المنطقة الشرقية                 0.360844   \n",
       "                     منطقة الباحة                    0.257046   \n",
       "                     منطقة الجوف                     0.106208   \n",
       "                     منطقة الحدود الشمالية           0.205506   \n",
       "                     منطقة الرياض                    0.553390   \n",
       "\n",
       "                                            nonsaudis_percentage  \n",
       "Economic_Activity    region                                       \n",
       "أبحاث الإعلان والسوق المنطقة الشرقية                    0.639156  \n",
       "                     منطقة الباحة                       0.742954  \n",
       "                     منطقة الجوف                        0.893792  \n",
       "                     منطقة الحدود الشمالية              0.794494  \n",
       "                     منطقة الرياض                       0.446610  "
      ]
     },
     "execution_count": 98,
     "metadata": {},
     "output_type": "execute_result"
    }
   ],
   "source": [
    "region_based_on_activity.head()"
   ]
  },
  {
   "cell_type": "markdown",
   "metadata": {},
   "source": [
    "## Q1 Page 1"
   ]
  },
  {
   "cell_type": "code",
   "execution_count": 99,
   "metadata": {
    "executionInfo": {
     "elapsed": 294,
     "status": "ok",
     "timestamp": 1732274667533,
     "user": {
      "displayName": "Mamdouh Alsharari",
      "userId": "05698238833697906943"
     },
     "user_tz": -660
    },
    "id": "L7LcMX3UnTzQ"
   },
   "outputs": [],
   "source": [
    "df_2022['total_employees'] = df_2022['Number_Of_Saudis'] + df_2022['Number_Of_Nonsaudis']\n",
    "df_2023['total_employees'] = df_2023['Number_Of_Saudis'] + df_2023['Number_Of_Nonsaudis']\n",
    "df_2024['total_employees'] = df_2024['Number_Of_Saudis'] + df_2024['Number_Of_Nonsaudis']\n",
    "\n",
    "\n",
    "# quarter group for 2022\n",
    "df_2022_q_group = df_2022.groupby(['Q'])[['Number_Of_Establishments', 'Number_Of_Saudis', 'Number_Of_Male_Saudis', 'Number_Of_Female_Saudis', 'Number_Of_Nonsaudis', 'Number_Of_Male_Nonaudis', 'Number_Of_Female_Nonaudis', 'total_employees']].sum().reset_index()\n",
    "\n",
    "\n",
    "# quarter group for 2023\n",
    "df_2023_q_group = df_2023.groupby(['Q'])[['Number_Of_Establishments', 'Number_Of_Saudis', 'Number_Of_Male_Saudis', 'Number_Of_Female_Saudis', 'Number_Of_Nonsaudis', 'Number_Of_Male_Nonaudis', 'Number_Of_Female_Nonaudis', 'total_employees']].sum().reset_index()\n",
    "\n",
    "\n",
    "# quarter group for 2024\n",
    "df_2024_q_group = df_2024.groupby(['Q'])[['Number_Of_Establishments', 'Number_Of_Saudis', 'Number_Of_Male_Saudis', 'Number_Of_Female_Saudis', 'Number_Of_Nonsaudis', 'Number_Of_Male_Nonaudis', 'Number_Of_Female_Nonaudis', 'total_employees']].sum().reset_index()"
   ]
  },
  {
   "cell_type": "code",
   "execution_count": 100,
   "metadata": {},
   "outputs": [],
   "source": [
    "df_2022_q_group['year'] = 2022\n",
    "df_2023_q_group['year'] = 2023\n",
    "df_2024_q_group['year'] = 2024"
   ]
  },
  {
   "cell_type": "code",
   "execution_count": 101,
   "metadata": {
    "executionInfo": {
     "elapsed": 295,
     "status": "ok",
     "timestamp": 1732275663044,
     "user": {
      "displayName": "Mamdouh Alsharari",
      "userId": "05698238833697906943"
     },
     "user_tz": -660
    },
    "id": "dN_pebh3rJqw"
   },
   "outputs": [],
   "source": [
    "df_q_group = pd.concat([df_2022_q_group, df_2023_q_group], ignore_index=True)"
   ]
  },
  {
   "cell_type": "code",
   "execution_count": 102,
   "metadata": {},
   "outputs": [
    {
     "data": {
      "text/html": [
       "<div>\n",
       "<style scoped>\n",
       "    .dataframe tbody tr th:only-of-type {\n",
       "        vertical-align: middle;\n",
       "    }\n",
       "\n",
       "    .dataframe tbody tr th {\n",
       "        vertical-align: top;\n",
       "    }\n",
       "\n",
       "    .dataframe thead th {\n",
       "        text-align: right;\n",
       "    }\n",
       "</style>\n",
       "<table border=\"1\" class=\"dataframe\">\n",
       "  <thead>\n",
       "    <tr style=\"text-align: right;\">\n",
       "      <th></th>\n",
       "      <th>Q</th>\n",
       "      <th>Number_Of_Establishments</th>\n",
       "      <th>Number_Of_Saudis</th>\n",
       "      <th>Number_Of_Male_Saudis</th>\n",
       "      <th>Number_Of_Female_Saudis</th>\n",
       "      <th>Number_Of_Nonsaudis</th>\n",
       "      <th>Number_Of_Male_Nonaudis</th>\n",
       "      <th>Number_Of_Female_Nonaudis</th>\n",
       "      <th>total_employees</th>\n",
       "      <th>year</th>\n",
       "    </tr>\n",
       "  </thead>\n",
       "  <tbody>\n",
       "    <tr>\n",
       "      <th>0</th>\n",
       "      <td>1</td>\n",
       "      <td>894135</td>\n",
       "      <td>2373778</td>\n",
       "      <td>1533509</td>\n",
       "      <td>840269</td>\n",
       "      <td>6641301</td>\n",
       "      <td>6343392</td>\n",
       "      <td>297909</td>\n",
       "      <td>9015079</td>\n",
       "      <td>2022</td>\n",
       "    </tr>\n",
       "    <tr>\n",
       "      <th>1</th>\n",
       "      <td>2</td>\n",
       "      <td>969690</td>\n",
       "      <td>2440961</td>\n",
       "      <td>1562919</td>\n",
       "      <td>878042</td>\n",
       "      <td>7091971</td>\n",
       "      <td>6780466</td>\n",
       "      <td>311505</td>\n",
       "      <td>9532932</td>\n",
       "      <td>2022</td>\n",
       "    </tr>\n",
       "    <tr>\n",
       "      <th>2</th>\n",
       "      <td>3</td>\n",
       "      <td>1079595</td>\n",
       "      <td>2136188</td>\n",
       "      <td>1314928</td>\n",
       "      <td>821260</td>\n",
       "      <td>7159790</td>\n",
       "      <td>6881517</td>\n",
       "      <td>278273</td>\n",
       "      <td>9295978</td>\n",
       "      <td>2022</td>\n",
       "    </tr>\n",
       "    <tr>\n",
       "      <th>3</th>\n",
       "      <td>4</td>\n",
       "      <td>1145467</td>\n",
       "      <td>2193452</td>\n",
       "      <td>1332956</td>\n",
       "      <td>860496</td>\n",
       "      <td>7441496</td>\n",
       "      <td>7153550</td>\n",
       "      <td>287946</td>\n",
       "      <td>9634948</td>\n",
       "      <td>2022</td>\n",
       "    </tr>\n",
       "    <tr>\n",
       "      <th>4</th>\n",
       "      <td>1</td>\n",
       "      <td>1199843</td>\n",
       "      <td>2233716</td>\n",
       "      <td>1343134</td>\n",
       "      <td>890582</td>\n",
       "      <td>7699862</td>\n",
       "      <td>7393060</td>\n",
       "      <td>306802</td>\n",
       "      <td>9933578</td>\n",
       "      <td>2023</td>\n",
       "    </tr>\n",
       "  </tbody>\n",
       "</table>\n",
       "</div>"
      ],
      "text/plain": [
       "   Q  Number_Of_Establishments  Number_Of_Saudis  Number_Of_Male_Saudis  \\\n",
       "0  1                    894135           2373778                1533509   \n",
       "1  2                    969690           2440961                1562919   \n",
       "2  3                   1079595           2136188                1314928   \n",
       "3  4                   1145467           2193452                1332956   \n",
       "4  1                   1199843           2233716                1343134   \n",
       "\n",
       "   Number_Of_Female_Saudis  Number_Of_Nonsaudis  Number_Of_Male_Nonaudis  \\\n",
       "0                   840269              6641301                  6343392   \n",
       "1                   878042              7091971                  6780466   \n",
       "2                   821260              7159790                  6881517   \n",
       "3                   860496              7441496                  7153550   \n",
       "4                   890582              7699862                  7393060   \n",
       "\n",
       "   Number_Of_Female_Nonaudis  total_employees  year  \n",
       "0                     297909          9015079  2022  \n",
       "1                     311505          9532932  2022  \n",
       "2                     278273          9295978  2022  \n",
       "3                     287946          9634948  2022  \n",
       "4                     306802          9933578  2023  "
      ]
     },
     "execution_count": 102,
     "metadata": {},
     "output_type": "execute_result"
    }
   ],
   "source": [
    "df_q_group.head()"
   ]
  },
  {
   "cell_type": "code",
   "execution_count": 103,
   "metadata": {},
   "outputs": [],
   "source": [
    "# export df_q_group to csv\n",
    "df_q_group.to_csv('data/df_q_group.csv', index=False)"
   ]
  },
  {
   "cell_type": "markdown",
   "metadata": {},
   "source": [
    "# Q2 Page 2"
   ]
  },
  {
   "cell_type": "code",
   "execution_count": 105,
   "metadata": {},
   "outputs": [],
   "source": [
    "last_Q = df[df[\"Q\"] == 4]\n",
    "last_Q_2022 = last_Q[last_Q[\"year\"] == 2022]\n",
    "last_Q_2023 = last_Q[last_Q[\"year\"] == 2023]\n",
    "last_Q_2024 = df[(df[\"year\"] == 2024) & (df[\"Q\"] == 3)]\n",
    "\n",
    "activity_group22 = last_Q_2022.groupby(['Economic_Activity'])[['Number_Of_Establishments', 'Number_Of_Saudis', 'Number_Of_Male_Saudis', 'Number_Of_Female_Saudis', 'Number_Of_Nonsaudis', 'Number_Of_Male_Nonaudis', 'Number_Of_Female_Nonaudis', 'total_employees']].sum().sort_values(by=\"total_employees\", ascending=False)\n",
    "activity_group23 = last_Q_2023.groupby(['Economic_Activity'])[['Number_Of_Establishments', 'Number_Of_Saudis', 'Number_Of_Male_Saudis', 'Number_Of_Female_Saudis', 'Number_Of_Nonsaudis', 'Number_Of_Male_Nonaudis', 'Number_Of_Female_Nonaudis', 'total_employees']].sum().sort_values(by=\"total_employees\", ascending=False)\n",
    "activity_group24 = last_Q_2024.groupby(['Economic_Activity'])[['Number_Of_Establishments', 'Number_Of_Saudis', 'Number_Of_Male_Saudis', 'Number_Of_Female_Saudis', 'Number_Of_Nonsaudis', 'Number_Of_Male_Nonaudis', 'Number_Of_Female_Nonaudis', 'total_employees']].sum().sort_values(by=\"total_employees\", ascending=False)"
   ]
  },
  {
   "cell_type": "code",
   "execution_count": 106,
   "metadata": {},
   "outputs": [
    {
     "data": {
      "text/html": [
       "<div>\n",
       "<style scoped>\n",
       "    .dataframe tbody tr th:only-of-type {\n",
       "        vertical-align: middle;\n",
       "    }\n",
       "\n",
       "    .dataframe tbody tr th {\n",
       "        vertical-align: top;\n",
       "    }\n",
       "\n",
       "    .dataframe thead th {\n",
       "        text-align: right;\n",
       "    }\n",
       "</style>\n",
       "<table border=\"1\" class=\"dataframe\">\n",
       "  <thead>\n",
       "    <tr style=\"text-align: right;\">\n",
       "      <th></th>\n",
       "      <th>Number_Of_Establishments</th>\n",
       "      <th>Number_Of_Saudis</th>\n",
       "      <th>Number_Of_Male_Saudis</th>\n",
       "      <th>Number_Of_Female_Saudis</th>\n",
       "      <th>Number_Of_Nonsaudis</th>\n",
       "      <th>Number_Of_Male_Nonaudis</th>\n",
       "      <th>Number_Of_Female_Nonaudis</th>\n",
       "      <th>total_employees</th>\n",
       "    </tr>\n",
       "    <tr>\n",
       "      <th>Economic_Activity</th>\n",
       "      <th></th>\n",
       "      <th></th>\n",
       "      <th></th>\n",
       "      <th></th>\n",
       "      <th></th>\n",
       "      <th></th>\n",
       "      <th></th>\n",
       "      <th></th>\n",
       "    </tr>\n",
       "  </thead>\n",
       "  <tbody>\n",
       "    <tr>\n",
       "      <th>تشييد المباني</th>\n",
       "      <td>167216</td>\n",
       "      <td>225616</td>\n",
       "      <td>128292</td>\n",
       "      <td>97324</td>\n",
       "      <td>1618963</td>\n",
       "      <td>1597509</td>\n",
       "      <td>21454</td>\n",
       "      <td>1844579</td>\n",
       "    </tr>\n",
       "  </tbody>\n",
       "</table>\n",
       "</div>"
      ],
      "text/plain": [
       "                   Number_Of_Establishments  Number_Of_Saudis  \\\n",
       "Economic_Activity                                               \n",
       "تشييد المباني                        167216            225616   \n",
       "\n",
       "                   Number_Of_Male_Saudis  Number_Of_Female_Saudis  \\\n",
       "Economic_Activity                                                   \n",
       "تشييد المباني                     128292                    97324   \n",
       "\n",
       "                   Number_Of_Nonsaudis  Number_Of_Male_Nonaudis  \\\n",
       "Economic_Activity                                                 \n",
       "تشييد المباني                  1618963                  1597509   \n",
       "\n",
       "                   Number_Of_Female_Nonaudis  total_employees  \n",
       "Economic_Activity                                              \n",
       "تشييد المباني                          21454          1844579  "
      ]
     },
     "execution_count": 106,
     "metadata": {},
     "output_type": "execute_result"
    }
   ],
   "source": [
    "activity_group24.head(1)"
   ]
  },
  {
   "cell_type": "code",
   "execution_count": 108,
   "metadata": {},
   "outputs": [],
   "source": [
    "activity_group22.to_csv('data/activity_group22.csv', index=True)\n",
    "activity_group23.to_csv('data/activity_group23.csv', index=True)\n",
    "activity_group24.to_csv('data/activity_group24.csv', index=True)"
   ]
  }
 ],
 "metadata": {
  "colab": {
   "collapsed_sections": [
    "Km5CvoC6wlRi",
    "zEkEpGB1x9q5"
   ],
   "provenance": []
  },
  "kernelspec": {
   "display_name": "base",
   "language": "python",
   "name": "python3"
  },
  "language_info": {
   "codemirror_mode": {
    "name": "ipython",
    "version": 3
   },
   "file_extension": ".py",
   "mimetype": "text/x-python",
   "name": "python",
   "nbconvert_exporter": "python",
   "pygments_lexer": "ipython3",
   "version": "3.9.20"
  }
 },
 "nbformat": 4,
 "nbformat_minor": 0
}
